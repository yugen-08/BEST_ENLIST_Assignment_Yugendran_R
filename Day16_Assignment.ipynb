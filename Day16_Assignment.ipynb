{
  "nbformat": 4,
  "nbformat_minor": 0,
  "metadata": {
    "colab": {
      "name": "Day16_Assignment.ipynb",
      "provenance": []
    },
    "kernelspec": {
      "name": "python3",
      "display_name": "Python 3"
    },
    "language_info": {
      "name": "python"
    }
  },
  "cells": [
    {
      "cell_type": "markdown",
      "metadata": {
        "id": "z3nt2j3Vi1BI"
      },
      "source": [
        "Day 16\n",
        "------------------------------------------------------------------------------------------------------------\n",
        "Lambda Function"
      ]
    },
    {
      "cell_type": "markdown",
      "metadata": {
        "id": "P4jbGraUi4Xe"
      },
      "source": [
        "Create a lambda function that multiplies argument x with argument y"
      ]
    },
    {
      "cell_type": "code",
      "metadata": {
        "colab": {
          "base_uri": "https://localhost:8080/"
        },
        "id": "FuF3azcri7Ap",
        "outputId": "0e26ca3b-d221-407a-bb24-22f95278a9a5"
      },
      "source": [
        "r = lambda x, y : x * y\n",
        "print(r(10, 4))"
      ],
      "execution_count": 1,
      "outputs": [
        {
          "output_type": "stream",
          "text": [
            "40\n"
          ],
          "name": "stdout"
        }
      ]
    },
    {
      "cell_type": "markdown",
      "metadata": {
        "id": "nnRPBDo7i-MQ"
      },
      "source": [
        "Write a Python program to create Fibonacci series to n using Lambda"
      ]
    },
    {
      "cell_type": "code",
      "metadata": {
        "colab": {
          "base_uri": "https://localhost:8080/"
        },
        "id": "z_8p8irUjA3S",
        "outputId": "484bcd67-a1f9-45b9-ff55-fc9c5086b5de"
      },
      "source": [
        "from functools import reduce\n",
        "  \n",
        "fib = lambda n: reduce(lambda x, _: x+[x[-1]+x[-2]],\n",
        "                                 range(n-2), [0, 1])\n",
        "  \n",
        "print(fib(11))"
      ],
      "execution_count": 2,
      "outputs": [
        {
          "output_type": "stream",
          "text": [
            "[0, 1, 1, 2, 3, 5, 8, 13, 21, 34, 55]\n"
          ],
          "name": "stdout"
        }
      ]
    },
    {
      "cell_type": "markdown",
      "metadata": {
        "id": "Ucm5laMyjEkx"
      },
      "source": [
        "Write a Python program that multiply each number of given list with a given number"
      ]
    },
    {
      "cell_type": "code",
      "metadata": {
        "colab": {
          "base_uri": "https://localhost:8080/"
        },
        "id": "9_wtO2e4jInF",
        "outputId": "cc52a049-699b-478f-a22f-cda9ab0d8cbc"
      },
      "source": [
        "nums = [2, 4, 6, 9 , 11]\n",
        "n = 2\n",
        "print(\"Original list: \", nums)\n",
        "print(\"Given number: \", n)\n",
        "filtered_numbers=list(map(lambda number:number*n,nums))\n",
        "print(\"Result:\")\n",
        "print(' '.join(map(str,filtered_numbers)))"
      ],
      "execution_count": 3,
      "outputs": [
        {
          "output_type": "stream",
          "text": [
            "Original list:  [2, 4, 6, 9, 11]\n",
            "Given number:  2\n",
            "Result:\n",
            "4 8 12 18 22\n"
          ],
          "name": "stdout"
        }
      ]
    },
    {
      "cell_type": "markdown",
      "metadata": {
        "id": "BFzkUOx6jLVK"
      },
      "source": [
        "Write a Python program to find numbers divisible by 9 from a list of numbers"
      ]
    },
    {
      "cell_type": "code",
      "metadata": {
        "colab": {
          "base_uri": "https://localhost:8080/"
        },
        "id": "DfDpNgy_jN32",
        "outputId": "68d5a238-cf05-49a0-8776-e48e70185819"
      },
      "source": [
        "list1=[2,4,5,6,7,8,9,21,12,14,15,27,36,81]\n",
        "print(list1)\n",
        "list2=list(map(lambda j:j%9==0,list1))\n",
        "print(\"Result\")\n",
        "print(' '.join(map(str,list2)))\n",
        "list2=list(filter(lambda j:j%9==0,list1))\n",
        "print(\"Result\")\n",
        "print(' '.join(map(str,list2)))"
      ],
      "execution_count": 4,
      "outputs": [
        {
          "output_type": "stream",
          "text": [
            "[2, 4, 5, 6, 7, 8, 9, 21, 12, 14, 15, 27, 36, 81]\n",
            "Result\n",
            "False False False False False False True False False False False True True True\n",
            "Result\n",
            "9 27 36 81\n"
          ],
          "name": "stdout"
        }
      ]
    },
    {
      "cell_type": "markdown",
      "metadata": {
        "id": "lzO1sICujRSi"
      },
      "source": [
        "Write a Python program to count the even numbers in a given list of integers"
      ]
    },
    {
      "cell_type": "code",
      "metadata": {
        "colab": {
          "base_uri": "https://localhost:8080/"
        },
        "id": "YfKTjIN3kBDl",
        "outputId": "d3e159ff-f6f1-4fcd-d316-1a71b579c1cd"
      },
      "source": [
        "list1=[2,4,5,6,7,8,9,21,12,14,15,27,36,81]\n",
        "print(list1)\n",
        "list2=list(filter(lambda j:j%2==0,list1))\n",
        "print(\"Result :\")\n",
        "print(len(list2))"
      ],
      "execution_count": 5,
      "outputs": [
        {
          "output_type": "stream",
          "text": [
            "[2, 4, 5, 6, 7, 8, 9, 21, 12, 14, 15, 27, 36, 81]\n",
            "Result :\n",
            "7\n"
          ],
          "name": "stdout"
        }
      ]
    }
  ]
}