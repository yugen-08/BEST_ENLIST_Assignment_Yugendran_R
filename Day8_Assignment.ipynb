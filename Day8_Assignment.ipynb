{
  "nbformat": 4,
  "nbformat_minor": 0,
  "metadata": {
    "colab": {
      "name": "Day8_Assignment.ipynb",
      "provenance": []
    },
    "kernelspec": {
      "name": "python3",
      "display_name": "Python 3"
    },
    "language_info": {
      "name": "python"
    }
  },
  "cells": [
    {
      "cell_type": "markdown",
      "metadata": {
        "id": "H82fn3Drvj5O"
      },
      "source": [
        "**Day 8**"
      ]
    },
    {
      "cell_type": "markdown",
      "metadata": {
        "id": "WFtuKIDuvm5B"
      },
      "source": [
        "**Exercise**"
      ]
    },
    {
      "cell_type": "markdown",
      "metadata": {
        "id": "vAc8lBnCvz4q"
      },
      "source": [
        "1) Write a Python script to merge two Python dictionaries"
      ]
    },
    {
      "cell_type": "code",
      "metadata": {
        "colab": {
          "base_uri": "https://localhost:8080/"
        },
        "id": "T0lM-GBxv2q6",
        "outputId": "3e74ef7c-1d60-412e-cc5e-23012a451309"
      },
      "source": [
        "dict1={1:'a',2:'b',3:'c',4:'d'}\n",
        "dict2={5:'e',6:'f',7:'g'}\n",
        "print(dict2)\n",
        "dict3={**dict1, **dict2} # method 1\n",
        "dict2.update(dict1) # method 2\n",
        "print(dict1)\n",
        "print(dict3)\n",
        "print(dict2)"
      ],
      "execution_count": 1,
      "outputs": [
        {
          "output_type": "stream",
          "text": [
            "{5: 'e', 6: 'f', 7: 'g'}\n",
            "{1: 'a', 2: 'b', 3: 'c', 4: 'd'}\n",
            "{1: 'a', 2: 'b', 3: 'c', 4: 'd', 5: 'e', 6: 'f', 7: 'g'}\n",
            "{5: 'e', 6: 'f', 7: 'g', 1: 'a', 2: 'b', 3: 'c', 4: 'd'}\n"
          ],
          "name": "stdout"
        }
      ]
    },
    {
      "cell_type": "markdown",
      "metadata": {
        "id": "mLbPHCxiwwa3"
      },
      "source": [
        "2)Write a program to sort the value from descending to ascending in list and convert it in to a set"
      ]
    },
    {
      "cell_type": "code",
      "metadata": {
        "colab": {
          "base_uri": "https://localhost:8080/"
        },
        "id": "ciUDEykOw0QD",
        "outputId": "4fb19443-9514-497c-dfbe-cc82f19bd967"
      },
      "source": [
        "list1=[2,3,4,5,6,7,1,2,3,43,12,14]\n",
        "list1.sort() \n",
        "print(list1)"
      ],
      "execution_count": 2,
      "outputs": [
        {
          "output_type": "stream",
          "text": [
            "[1, 2, 2, 3, 3, 4, 5, 6, 7, 12, 14, 43]\n"
          ],
          "name": "stdout"
        }
      ]
    },
    {
      "cell_type": "code",
      "metadata": {
        "colab": {
          "base_uri": "https://localhost:8080/"
        },
        "id": "fVeLZGjXw6ZD",
        "outputId": "953413b0-c093-42fe-b976-f2818eec15b0"
      },
      "source": [
        "list1.sort(reverse=True)\n",
        "print(list1)"
      ],
      "execution_count": 3,
      "outputs": [
        {
          "output_type": "stream",
          "text": [
            "[43, 14, 12, 7, 6, 5, 4, 3, 3, 2, 2, 1]\n"
          ],
          "name": "stdout"
        }
      ]
    },
    {
      "cell_type": "code",
      "metadata": {
        "colab": {
          "base_uri": "https://localhost:8080/"
        },
        "id": "rIYRzw6rxBSm",
        "outputId": "18e5947c-d50c-4952-f8a2-207133f2ab6f"
      },
      "source": [
        "set1=set(list1) \n",
        "print(set1) "
      ],
      "execution_count": 4,
      "outputs": [
        {
          "output_type": "stream",
          "text": [
            "{1, 2, 3, 4, 5, 6, 7, 43, 12, 14}\n"
          ],
          "name": "stdout"
        }
      ]
    },
    {
      "cell_type": "code",
      "metadata": {
        "colab": {
          "base_uri": "https://localhost:8080/"
        },
        "id": "mjG8irwmxDpI",
        "outputId": "0282477a-8250-4b75-9a3e-083b5e01ba0b"
      },
      "source": [
        "type(set1)"
      ],
      "execution_count": 5,
      "outputs": [
        {
          "output_type": "execute_result",
          "data": {
            "text/plain": [
              "set"
            ]
          },
          "metadata": {
            "tags": []
          },
          "execution_count": 5
        }
      ]
    },
    {
      "cell_type": "code",
      "metadata": {
        "colab": {
          "base_uri": "https://localhost:8080/"
        },
        "id": "DwrR-qUCxHNW",
        "outputId": "bdc16086-f3c8-4a65-c52c-18cc3b5a462f"
      },
      "source": [
        "type(list1)"
      ],
      "execution_count": 6,
      "outputs": [
        {
          "output_type": "execute_result",
          "data": {
            "text/plain": [
              "list"
            ]
          },
          "metadata": {
            "tags": []
          },
          "execution_count": 6
        }
      ]
    },
    {
      "cell_type": "markdown",
      "metadata": {
        "id": "53cKC61px18Z"
      },
      "source": [
        "3) Write a Python program to list number of items in a dictionary key and sort the list with the help of a function & without the function."
      ]
    },
    {
      "cell_type": "code",
      "metadata": {
        "colab": {
          "base_uri": "https://localhost:8080/"
        },
        "id": "rP1Cx4wGx36G",
        "outputId": "1029a5bd-7b4e-4609-abf3-1fcb50968906"
      },
      "source": [
        "dict1={'Hari':[12,13,21,16],'Ramu':[12,67,54,43],'Kanna':[34,87,88,98],'Vishnu':[33,66,55,44]}\n",
        "result={k:sorted(dict1[k]) for k in sorted(dict1)}\n",
        "print(result)"
      ],
      "execution_count": 8,
      "outputs": [
        {
          "output_type": "stream",
          "text": [
            "{'Hari': [12, 13, 16, 21], 'Kanna': [34, 87, 88, 98], 'Ramu': [12, 43, 54, 67], 'Vishnu': [33, 44, 55, 66]}\n"
          ],
          "name": "stdout"
        }
      ]
    },
    {
      "cell_type": "code",
      "metadata": {
        "id": "r8HEcb4Dy6D2"
      },
      "source": [
        "def function1(dict1):\n",
        "    res = dict()\n",
        "    for key in sorted(dict1):\n",
        "        res[key] = sorted(dict1[key])\n",
        "    return res"
      ],
      "execution_count": 10,
      "outputs": []
    },
    {
      "cell_type": "code",
      "metadata": {
        "colab": {
          "base_uri": "https://localhost:8080/"
        },
        "id": "0wUfxmUwzaQR",
        "outputId": "d4b0fc10-31ce-41af-f063-73a322b2cd72"
      },
      "source": [
        "function1(dict1)"
      ],
      "execution_count": 11,
      "outputs": [
        {
          "output_type": "execute_result",
          "data": {
            "text/plain": [
              "{'Hari': [12, 13, 16, 21],\n",
              " 'Kanna': [34, 87, 88, 98],\n",
              " 'Ramu': [12, 43, 54, 67],\n",
              " 'Vishnu': [33, 44, 55, 66]}"
            ]
          },
          "metadata": {
            "tags": []
          },
          "execution_count": 11
        }
      ]
    },
    {
      "cell_type": "code",
      "metadata": {
        "id": "HSwlsd3xzeha"
      },
      "source": [
        "def function2(dict1):\n",
        "    res=dict()\n",
        "    min1=dict1[key]\n",
        "    for key in sorted(dict1):\n",
        "        if dict1[key]<min1:\n",
        "            min1=dict1[key]\n",
        "            res[key]=min1\n",
        "    return res"
      ],
      "execution_count": 12,
      "outputs": []
    },
    {
      "cell_type": "code",
      "metadata": {
        "colab": {
          "base_uri": "https://localhost:8080/"
        },
        "id": "BXIzs9eUzkBg",
        "outputId": "e556ee86-0813-4366-b622-e842a1fdc3f8"
      },
      "source": [
        "function1(dict1)"
      ],
      "execution_count": 13,
      "outputs": [
        {
          "output_type": "execute_result",
          "data": {
            "text/plain": [
              "{'Hari': [12, 13, 16, 21],\n",
              " 'Kanna': [34, 87, 88, 98],\n",
              " 'Ramu': [12, 43, 54, 67],\n",
              " 'Vishnu': [33, 44, 55, 66]}"
            ]
          },
          "metadata": {
            "tags": []
          },
          "execution_count": 13
        }
      ]
    },
    {
      "cell_type": "markdown",
      "metadata": {
        "id": "rae5u24Az29X"
      },
      "source": [
        "4)Write a Python program to get a string from a given string (user input) and change the first occurrence of the word to a user specified input."
      ]
    },
    {
      "cell_type": "code",
      "metadata": {
        "id": "WAnXYo3nz7V-"
      },
      "source": [
        "def fun():\n",
        "    user=input(\"Enter the string :\")\n",
        "    word=\"String is given by user  \"\n",
        "    return user+word[6:]"
      ],
      "execution_count": 15,
      "outputs": []
    },
    {
      "cell_type": "code",
      "metadata": {
        "colab": {
          "base_uri": "https://localhost:8080/",
          "height": 52
        },
        "id": "e8bMpxp1z-sU",
        "outputId": "915c6e2f-3866-4eef-ddda-ab871d5a7977"
      },
      "source": [
        "fun()"
      ],
      "execution_count": 16,
      "outputs": [
        {
          "output_type": "stream",
          "text": [
            "Enter the string :Hello\n"
          ],
          "name": "stdout"
        },
        {
          "output_type": "execute_result",
          "data": {
            "application/vnd.google.colaboratory.intrinsic+json": {
              "type": "string"
            },
            "text/plain": [
              "'Hello is given by user  '"
            ]
          },
          "metadata": {
            "tags": []
          },
          "execution_count": 16
        }
      ]
    },
    {
      "cell_type": "markdown",
      "metadata": {
        "id": "t9DzTvty0jFp"
      },
      "source": [
        "5)Write a Python program to get a string from a given string where all occurrences of its first char have been changed to capital letter."
      ]
    },
    {
      "cell_type": "code",
      "metadata": {
        "id": "PpI2fdOB0jtk"
      },
      "source": [
        "def fun3():\n",
        "    user=input(\"Enter the string :\")\n",
        "    return user.capitalize()"
      ],
      "execution_count": 17,
      "outputs": []
    },
    {
      "cell_type": "code",
      "metadata": {
        "colab": {
          "base_uri": "https://localhost:8080/",
          "height": 52
        },
        "id": "_QW7xdDU0qXj",
        "outputId": "16f1c1c3-42f8-4917-cc80-83c0344c4cb7"
      },
      "source": [
        "fun3()"
      ],
      "execution_count": 21,
      "outputs": [
        {
          "output_type": "stream",
          "text": [
            "Enter the string :hello python\n"
          ],
          "name": "stdout"
        },
        {
          "output_type": "execute_result",
          "data": {
            "application/vnd.google.colaboratory.intrinsic+json": {
              "type": "string"
            },
            "text/plain": [
              "'Hello python'"
            ]
          },
          "metadata": {
            "tags": []
          },
          "execution_count": 21
        }
      ]
    },
    {
      "cell_type": "code",
      "metadata": {
        "id": "Lg_x-qtD016h"
      },
      "source": [
        "def change_char(str1):\n",
        "    char = str1[0]\n",
        "    str1 = str1.replace(char, str1[0].upper())\n",
        "    str1 = char + str1[1:]\n",
        "    return str1"
      ],
      "execution_count": 19,
      "outputs": []
    },
    {
      "cell_type": "code",
      "metadata": {
        "colab": {
          "base_uri": "https://localhost:8080/",
          "height": 35
        },
        "id": "yxV7Ibo706Y_",
        "outputId": "24872563-b131-4554-ea83-6c988c3436e1"
      },
      "source": [
        "change_char('hello world ! this is a python program')"
      ],
      "execution_count": 20,
      "outputs": [
        {
          "output_type": "execute_result",
          "data": {
            "application/vnd.google.colaboratory.intrinsic+json": {
              "type": "string"
            },
            "text/plain": [
              "'hello world ! tHis is a pytHon program'"
            ]
          },
          "metadata": {
            "tags": []
          },
          "execution_count": 20
        }
      ]
    },
    {
      "cell_type": "markdown",
      "metadata": {
        "id": "kGYUlMvs17g3"
      },
      "source": [
        "6) Write a Python program to find the repeated items of a list"
      ]
    },
    {
      "cell_type": "code",
      "metadata": {
        "colab": {
          "base_uri": "https://localhost:8080/"
        },
        "id": "e9qrldEV18Xb",
        "outputId": "1c52bc65-658a-43e1-8784-3cdcee876e65"
      },
      "source": [
        "from collections import Counter\n",
        " \n",
        "l1 = [1,2,1,2,3,4,5,1,1,2,5,6,7,8,9,9]\n",
        "d = Counter(l1)\n",
        "print(d)\n",
        " \n",
        "new_list = list([item for item in d if d[item]>1])\n",
        "print(new_list)"
      ],
      "execution_count": 22,
      "outputs": [
        {
          "output_type": "stream",
          "text": [
            "Counter({1: 4, 2: 3, 5: 2, 9: 2, 3: 1, 4: 1, 6: 1, 7: 1, 8: 1})\n",
            "[1, 2, 5, 9]\n"
          ],
          "name": "stdout"
        }
      ]
    },
    {
      "cell_type": "code",
      "metadata": {
        "id": "NNpAKwbn2DnH"
      },
      "source": [
        "def Repeat(x):\n",
        "    _size = len(x)\n",
        "    repeated = []\n",
        "    for i in range(_size):\n",
        "        k = i + 1\n",
        "        for j in range(k, _size):\n",
        "            if x[i] == x[j] and x[i] not in repeated:\n",
        "                repeated.append(x[i])\n",
        "    return repeated"
      ],
      "execution_count": 23,
      "outputs": []
    },
    {
      "cell_type": "code",
      "metadata": {
        "colab": {
          "base_uri": "https://localhost:8080/"
        },
        "id": "9qumcFMn2G6F",
        "outputId": "b2f2cab0-dbaf-421e-e9db-fa2cf7bd016e"
      },
      "source": [
        "list1 = [10, 20, 30, 20, 20, 30, 40,\n",
        "         50, -20, 60, 60, -20, -20]\n",
        "print (Repeat(list1))"
      ],
      "execution_count": 24,
      "outputs": [
        {
          "output_type": "stream",
          "text": [
            "[20, 30, -20, 60]\n"
          ],
          "name": "stdout"
        }
      ]
    },
    {
      "cell_type": "markdown",
      "metadata": {
        "id": "3s2qnYzE2MiX"
      },
      "source": [
        "7) Write a Python program to check the sum of three elements and divided by a value which is given as an input by the user"
      ]
    },
    {
      "cell_type": "code",
      "metadata": {
        "colab": {
          "base_uri": "https://localhost:8080/"
        },
        "id": "pIJy2mGM2R0k",
        "outputId": "8aa281b5-e85e-46ef-ed85-088873971b3e"
      },
      "source": [
        "a=int(input(\"Enter number :\"))\n",
        "b=int(input(\"Enter number :\"))\n",
        "c=int(input(\"Enter number :\"))\n",
        "sum1=a+b+c\n",
        "print(sum1)\n",
        "user=int(input(\"Enter the number to divide sum!\"))\n",
        "if sum1% user==0:\n",
        "    print(\"The given input divide\")\n",
        "else :\n",
        "    print(\"The given input does not divide sum1\")"
      ],
      "execution_count": 26,
      "outputs": [
        {
          "output_type": "stream",
          "text": [
            "Enter number :2\n",
            "Enter number :3\n",
            "Enter number :5\n",
            "10\n",
            "Enter the number to divide sum!5\n",
            "The given input divide\n"
          ],
          "name": "stdout"
        }
      ]
    },
    {
      "cell_type": "markdown",
      "metadata": {
        "id": "xlI8keZk2tjb"
      },
      "source": [
        "8) Write a Python program to find the Mean,median,mode among three given numbers"
      ]
    },
    {
      "cell_type": "code",
      "metadata": {
        "id": "93VUN7g12uFo"
      },
      "source": [
        "from collections import Counter\n",
        "def MMM(n_num):\n",
        "    n = len(n_num)\n",
        "    get_sum = sum(n_num)\n",
        "    mean = get_sum / n\n",
        "    print(\"Mean / Average is: \" + str(mean))\n",
        "    n_num.sort()\n",
        "    if n % 2 == 0:\n",
        "        median1 = n_num[n//2]\n",
        "        median2 = n_num[n//2 - 1]\n",
        "        median = (median1 + median2)/2\n",
        "    else:\n",
        "        median = n_num[n//2]\n",
        "    print(\"Median is: \" + str(median))\n",
        "    data = Counter(n_num)\n",
        "    get_mode = dict(data)\n",
        "    mode = [k for k, v in get_mode.items() if v == max(list(data.values()))]\n",
        "    if len(mode) == n:\n",
        "        get_mode = \"No mode found\"\n",
        "    else:\n",
        "        get_mode = \"Mode is / are: \" + ', '.join(map(str, mode))\n",
        "    print(get_mode)"
      ],
      "execution_count": 27,
      "outputs": []
    },
    {
      "cell_type": "code",
      "metadata": {
        "colab": {
          "base_uri": "https://localhost:8080/"
        },
        "id": "JWN8CLju2257",
        "outputId": "572047d9-c8d2-44a4-f631-3e5ce27498ae"
      },
      "source": [
        "l=[12,11,23,245,25,22,344,34,56]\n",
        "MMM(l)"
      ],
      "execution_count": 28,
      "outputs": [
        {
          "output_type": "stream",
          "text": [
            "Mean / Average is: 85.77777777777777\n",
            "Median is: 25\n",
            "No mode found\n"
          ],
          "name": "stdout"
        }
      ]
    },
    {
      "cell_type": "markdown",
      "metadata": {
        "id": "krGhbLWm26QZ"
      },
      "source": [
        "9)Write a Python program to swap cases of a given string"
      ]
    },
    {
      "cell_type": "code",
      "metadata": {
        "colab": {
          "base_uri": "https://localhost:8080/"
        },
        "id": "yUz2wP4U265j",
        "outputId": "4bb53c8b-57b5-491b-ad87-db4439e5ea68"
      },
      "source": [
        "a=\"Hello\"\n",
        "b=\"World\"\n",
        "tep=a\n",
        "a=b\n",
        "b=tep\n",
        "print(a,b)"
      ],
      "execution_count": 29,
      "outputs": [
        {
          "output_type": "stream",
          "text": [
            "World Hello\n"
          ],
          "name": "stdout"
        }
      ]
    },
    {
      "cell_type": "code",
      "metadata": {
        "colab": {
          "base_uri": "https://localhost:8080/"
        },
        "id": "rDFg7MGN3B8a",
        "outputId": "1ee5d771-058e-4201-ecac-c72cbf4b1f16"
      },
      "source": [
        "x = a\n",
        "y = b\n",
        "x, y = y, x\n",
        "print(x,y)"
      ],
      "execution_count": 30,
      "outputs": [
        {
          "output_type": "stream",
          "text": [
            "Hello World\n"
          ],
          "name": "stdout"
        }
      ]
    },
    {
      "cell_type": "markdown",
      "metadata": {
        "id": "A4gLzV503E4w"
      },
      "source": [
        "10) Write a program to convert an integer to binary & octa decimal"
      ]
    },
    {
      "cell_type": "code",
      "metadata": {
        "id": "GqWk0JIn3Frv"
      },
      "source": [
        "def decToOctal(n):\n",
        "    octalNum = [0] * 100\n",
        "    i = 0\n",
        "    while (n != 0):\n",
        "        octalNum[i] = n % 8\n",
        "        n = int(n / 8)\n",
        "        i += 1\n",
        "    for j in range(i - 1, -1, -1):\n",
        "        print(octalNum[j], end=\"\")"
      ],
      "execution_count": 31,
      "outputs": []
    },
    {
      "cell_type": "code",
      "metadata": {
        "colab": {
          "base_uri": "https://localhost:8080/"
        },
        "id": "0w8eW7sJ3M2Z",
        "outputId": "f81965f4-c9e2-4bd5-adf5-cf66773f8b90"
      },
      "source": [
        "n=65\n",
        "decToOctal(n)"
      ],
      "execution_count": 32,
      "outputs": [
        {
          "output_type": "stream",
          "text": [
            "101"
          ],
          "name": "stdout"
        }
      ]
    },
    {
      "cell_type": "code",
      "metadata": {
        "colab": {
          "base_uri": "https://localhost:8080/"
        },
        "id": "VUU8Itgq3QYQ",
        "outputId": "5436d88c-4795-40f2-929e-7f575a9cc998"
      },
      "source": [
        "n=3\n",
        "decToOctal(n)"
      ],
      "execution_count": 33,
      "outputs": [
        {
          "output_type": "stream",
          "text": [
            "3"
          ],
          "name": "stdout"
        }
      ]
    }
  ]
}