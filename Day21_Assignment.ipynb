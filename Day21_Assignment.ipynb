{
  "nbformat": 4,
  "nbformat_minor": 0,
  "metadata": {
    "colab": {
      "name": "Day21_Assignment.ipynb",
      "provenance": []
    },
    "kernelspec": {
      "name": "python3",
      "display_name": "Python 3"
    },
    "language_info": {
      "name": "python"
    }
  },
  "cells": [
    {
      "cell_type": "markdown",
      "metadata": {
        "id": "uWUXgzBe81F2"
      },
      "source": [
        "DAY 21\n",
        "---------------------------------------------------------------------------------------------------------\n",
        "Map,Filter,zip,reduce"
      ]
    },
    {
      "cell_type": "markdown",
      "metadata": {
        "id": "G_XPIQsH852W"
      },
      "source": [
        "1. Write a program using zip() function and list() function, create a merged list of tuples from the two lists given."
      ]
    },
    {
      "cell_type": "code",
      "metadata": {
        "id": "WIYP-AnS88_Z"
      },
      "source": [
        "def listOfTuples(l1, l2):\n",
        "    return list(map(lambda x, y:(x,y), l1, l2))"
      ],
      "execution_count": 1,
      "outputs": []
    },
    {
      "cell_type": "code",
      "metadata": {
        "colab": {
          "base_uri": "https://localhost:8080/"
        },
        "id": "IkqE6-OQ9BaR",
        "outputId": "b76d0b79-1638-41bb-89b3-9123df9ff274"
      },
      "source": [
        "list1 = [1, 2, 3]\n",
        "list2 = ['a', 'b', 'c']\n",
        "print(listOfTuples(list1, list2))"
      ],
      "execution_count": 2,
      "outputs": [
        {
          "output_type": "stream",
          "text": [
            "[(1, 'a'), (2, 'b'), (3, 'c')]\n"
          ],
          "name": "stdout"
        }
      ]
    },
    {
      "cell_type": "code",
      "metadata": {
        "id": "fTC54qvo9Dez"
      },
      "source": [
        "def merge(list1, list2):\n",
        "      \n",
        "    merged_list = list(zip(list1, list2)) \n",
        "    return merged_list"
      ],
      "execution_count": 3,
      "outputs": []
    },
    {
      "cell_type": "code",
      "metadata": {
        "colab": {
          "base_uri": "https://localhost:8080/"
        },
        "id": "bq8w3q0u9F3Z",
        "outputId": "9c00066e-89aa-4241-bf24-5d381b4f8de9"
      },
      "source": [
        "list1 = [1, 2, 3]\n",
        "list2 = ['a', 'b', 'c']\n",
        "print(merge(list1, list2))"
      ],
      "execution_count": 4,
      "outputs": [
        {
          "output_type": "stream",
          "text": [
            "[(1, 'a'), (2, 'b'), (3, 'c')]\n"
          ],
          "name": "stdout"
        }
      ]
    },
    {
      "cell_type": "markdown",
      "metadata": {
        "id": "3LOMnJiV9JBh"
      },
      "source": [
        "2. First create a range from 1 to 8. Then using zip, merge the given list and the range together to create a new list of tuples."
      ]
    },
    {
      "cell_type": "code",
      "metadata": {
        "colab": {
          "base_uri": "https://localhost:8080/"
        },
        "id": "jG3_MrS19Lkh",
        "outputId": "ff97e012-fcdc-456f-8cfa-326bda878a33"
      },
      "source": [
        "list1=[1,2,3,4,5,6,7,8]\n",
        "list2=['a','b','c','d','e','f','g','h']\n",
        "result =tuple(zip(list1,list2))\n",
        "print(result)"
      ],
      "execution_count": 5,
      "outputs": [
        {
          "output_type": "stream",
          "text": [
            "((1, 'a'), (2, 'b'), (3, 'c'), (4, 'd'), (5, 'e'), (6, 'f'), (7, 'g'), (8, 'h'))\n"
          ],
          "name": "stdout"
        }
      ]
    },
    {
      "cell_type": "markdown",
      "metadata": {
        "id": "cRH8cI3p9OWB"
      },
      "source": [
        "3. Using sorted() function, sort the list in ascending order."
      ]
    },
    {
      "cell_type": "code",
      "metadata": {
        "colab": {
          "base_uri": "https://localhost:8080/"
        },
        "id": "yCi27UEi9Qah",
        "outputId": "5468be05-1429-43ae-c1f2-3ef706c1958f"
      },
      "source": [
        "list1=[23,45,54,32,78,88,22]\n",
        "list2=sorted(list1)\n",
        "print(list2)"
      ],
      "execution_count": 6,
      "outputs": [
        {
          "output_type": "stream",
          "text": [
            "[22, 23, 32, 45, 54, 78, 88]\n"
          ],
          "name": "stdout"
        }
      ]
    },
    {
      "cell_type": "markdown",
      "metadata": {
        "id": "DSgaLmmh9TqB"
      },
      "source": [
        "4. Write a program using filter function, filter the even numbers so that only odd numbers are passed to the new list."
      ]
    },
    {
      "cell_type": "code",
      "metadata": {
        "id": "xNnF3KyA9Wbj"
      },
      "source": [
        "def filtereven(nums):\n",
        "    if nums%2 !=0:\n",
        "        return True\n",
        "    else :\n",
        "        return False"
      ],
      "execution_count": 7,
      "outputs": []
    },
    {
      "cell_type": "code",
      "metadata": {
        "colab": {
          "base_uri": "https://localhost:8080/"
        },
        "id": "34nsXw8R9ZEy",
        "outputId": "3a3055b3-9248-4037-bba4-bc09844b85e9"
      },
      "source": [
        "numbers =[23,11,44,34,23,25,26,27,28,34,35,36]\n",
        "result=filter(filtereven,numbers)\n",
        "for i in result:\n",
        "    print(i)"
      ],
      "execution_count": 8,
      "outputs": [
        {
          "output_type": "stream",
          "text": [
            "23\n",
            "11\n",
            "23\n",
            "25\n",
            "27\n",
            "35\n"
          ],
          "name": "stdout"
        }
      ]
    }
  ]
}