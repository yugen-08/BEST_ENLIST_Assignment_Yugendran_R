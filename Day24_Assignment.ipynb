{
 "cells": [
  {
   "cell_type": "markdown",
   "id": "eb9786d0",
   "metadata": {},
   "source": [
    "# Day 24\n",
    "---------------------------------------------------------------------------------------------------------\n",
    "Python JSON"
   ]
  },
  {
   "cell_type": "markdown",
   "id": "a616b8b2",
   "metadata": {},
   "source": [
    "1. Create a JSON of all object types and import the JSON into a SQL Database"
   ]
  },
  {
   "cell_type": "code",
   "execution_count": 2,
   "id": "93664638",
   "metadata": {},
   "outputs": [],
   "source": [
    "import json"
   ]
  },
  {
   "cell_type": "code",
   "execution_count": 4,
   "id": "5d63df2d",
   "metadata": {},
   "outputs": [],
   "source": [
    "json_data=[\n",
    "    {'name':\"Yugendran\",'age':20,'Permanent_staff':True,'salary':78000.00,'dept_desgn':'Full Stack Developer'},\n",
    "     {'name':\"Suresh\",'age':30,'Permanent_staff':False,'salary':62000.00,'dept_desgn':\"ML Engineer\"},\n",
    "     {'name':\"Vishnu\",'age':26,'Permanent_staff':True,'salary':83000.00,'dept_desgn':'Web Designer'},\n",
    "     {'name':\"Udhai\",'age':23,'Permanent_staff':True,'salary':50000.00,'dept_desgn':'Data Scientist'},\n",
    "     {'name':\"Ram\",'age':24,'Permanent_staff':True,'salary':75000.00,'dept_desgn':'Manager'}\n",
    "    \n",
    "]"
   ]
  },
  {
   "cell_type": "code",
   "execution_count": 5,
   "id": "8e80b5be",
   "metadata": {},
   "outputs": [],
   "source": [
    "res =json.dumps(json_data)"
   ]
  },
  {
   "cell_type": "code",
   "execution_count": 6,
   "id": "b4383b13",
   "metadata": {},
   "outputs": [],
   "source": [
    "import mysql.connector"
   ]
  },
  {
   "cell_type": "code",
   "execution_count": 7,
   "id": "cc9ebe3f",
   "metadata": {},
   "outputs": [],
   "source": [
    "mydb = mysql.connector.connect(\n",
    "  host=\"localhost\",\n",
    "  user=\"root\",\n",
    "  password=\"yugen123\"\n",
    ")"
   ]
  },
  {
   "cell_type": "code",
   "execution_count": 8,
   "id": "6b64ac1b",
   "metadata": {},
   "outputs": [
    {
     "name": "stdout",
     "output_type": "stream",
     "text": [
      "<mysql.connector.connection.MySQLConnection object at 0x0000012BBBD10A30>\n"
     ]
    }
   ],
   "source": [
    "print(mydb)"
   ]
  },
  {
   "cell_type": "code",
   "execution_count": 9,
   "id": "d7e4fba2",
   "metadata": {},
   "outputs": [],
   "source": [
    "dbse = mydb.cursor()\n",
    "\n",
    "dbse.execute(\"CREATE DATABASE JSONRECORDS1\")"
   ]
  },
  {
   "cell_type": "code",
   "execution_count": 10,
   "id": "5ba57394",
   "metadata": {},
   "outputs": [
    {
     "name": "stdout",
     "output_type": "stream",
     "text": [
      "('doctors1',)\n",
      "('employee_mangement',)\n",
      "('information_schema',)\n",
      "('jsonrecords1',)\n",
      "('mysql',)\n",
      "('performance_schema',)\n",
      "('sys',)\n"
     ]
    }
   ],
   "source": [
    "dbse = mydb.cursor()\n",
    "\n",
    "dbse.execute(\"SHOW DATABASES\")\n",
    "\n",
    "for entry in dbse:\n",
    "  print(entry)"
   ]
  },
  {
   "cell_type": "code",
   "execution_count": 11,
   "id": "85a45d78",
   "metadata": {},
   "outputs": [],
   "source": [
    "mydb = mysql.connector.connect(\n",
    "  host=\"localhost\",\n",
    " user=\"root\",\n",
    "  password=\"yugen123\",\n",
    "  database=\"jsonrecords1\"\n",
    ")\n",
    "dbse = mydb.cursor()\n",
    "\n",
    "dbse.execute(\"CREATE TABLE employee (name VARCHAR(255),age INT, permanent_staff VARCHAR(255), salary DOUBLE, dept_and_designation VARCHAR(255))\")"
   ]
  },
  {
   "cell_type": "code",
   "execution_count": 12,
   "id": "8d6051c5",
   "metadata": {},
   "outputs": [
    {
     "name": "stdout",
     "output_type": "stream",
     "text": [
      "('employee',)\n"
     ]
    }
   ],
   "source": [
    "dbse = mydb.cursor()\n",
    "\n",
    "dbse.execute(\"SHOW TABLES\")\n",
    "\n",
    "for value in dbse:\n",
    "  print(value)"
   ]
  },
  {
   "cell_type": "code",
   "execution_count": 13,
   "id": "7d354a64",
   "metadata": {},
   "outputs": [
    {
     "name": "stdout",
     "output_type": "stream",
     "text": [
      "('name', b'varchar(255)', 'YES', '', None, '')\n",
      "('age', b'int', 'YES', '', None, '')\n",
      "('permanent_staff', b'varchar(255)', 'YES', '', None, '')\n",
      "('salary', b'double', 'YES', '', None, '')\n",
      "('dept_and_designation', b'varchar(255)', 'YES', '', None, '')\n"
     ]
    }
   ],
   "source": [
    "dbse = mydb.cursor()\n",
    "\n",
    "dbse.execute(\"SHOW COLUMNS FROM employee\")\n",
    "\n",
    "for value in dbse:\n",
    "  print(value)"
   ]
  },
  {
   "cell_type": "code",
   "execution_count": null,
   "id": "45e0559f",
   "metadata": {},
   "outputs": [],
   "source": [
    "dbse = mydb.cursor()\n",
    "sql = \"INSERT INTO employee (name ,age, permanent_staff,salary,dept_designation) VALUES (%s)\"\n",
    "value= list(for i in res: res[i])\n",
    "                         \n",
    "dbse.execute( sql, value))"
   ]
  }
 ],
 "metadata": {
  "kernelspec": {
   "display_name": "Python 3",
   "language": "python",
   "name": "python3"
  },
  "language_info": {
   "codemirror_mode": {
    "name": "ipython",
    "version": 3
   },
   "file_extension": ".py",
   "mimetype": "text/x-python",
   "name": "python",
   "nbconvert_exporter": "python",
   "pygments_lexer": "ipython3",
   "version": "3.9.5"
  }
 },
 "nbformat": 4,
 "nbformat_minor": 5
}
