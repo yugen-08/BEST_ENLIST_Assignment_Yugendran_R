{
  "nbformat": 4,
  "nbformat_minor": 0,
  "metadata": {
    "colab": {
      "name": "Day27_Assignment.ipynb",
      "provenance": []
    },
    "kernelspec": {
      "name": "python3",
      "display_name": "Python 3"
    },
    "language_info": {
      "name": "python"
    }
  },
  "cells": [
    {
      "cell_type": "markdown",
      "metadata": {
        "id": "HbrUpXiJTviw"
      },
      "source": [
        "**Day 27**\n",
        "---------------------------------------------------------------------------------------------------------\n",
        "**Scraping website and store in csv file **"
      ]
    },
    {
      "cell_type": "code",
      "metadata": {
        "id": "L4B8PmCTT3M9"
      },
      "source": [
        "import pandas as pd\n",
        "import requests\n",
        "from bs4 import BeautifulSoup"
      ],
      "execution_count": 1,
      "outputs": []
    },
    {
      "cell_type": "code",
      "metadata": {
        "id": "7eN61d2QT7od"
      },
      "source": [
        "import csv"
      ],
      "execution_count": 3,
      "outputs": []
    },
    {
      "cell_type": "code",
      "metadata": {
        "id": "SiYG67UHUABd"
      },
      "source": [
        "r = requests.get('https://authoraditiagarwal.com/')"
      ],
      "execution_count": 4,
      "outputs": []
    },
    {
      "cell_type": "code",
      "metadata": {
        "id": "Zmym8Hr3UU32"
      },
      "source": [
        "soup = BeautifulSoup(r.text, 'lxml')"
      ],
      "execution_count": 6,
      "outputs": []
    },
    {
      "cell_type": "code",
      "metadata": {
        "colab": {
          "base_uri": "https://localhost:8080/"
        },
        "id": "aj-6QT0yUaUm",
        "outputId": "9e8a8da1-78b9-4a21-a899-a02e9f918d32"
      },
      "source": [
        "f = csv.writer(open(' dataprocessing.csv ','w'))\n",
        "f.writerow(['Title'])\n",
        "f.writerow([soup.title.text])"
      ],
      "execution_count": 7,
      "outputs": [
        {
          "output_type": "execute_result",
          "data": {
            "text/plain": [
              "25"
            ]
          },
          "metadata": {
            "tags": []
          },
          "execution_count": 7
        }
      ]
    }
  ]
}