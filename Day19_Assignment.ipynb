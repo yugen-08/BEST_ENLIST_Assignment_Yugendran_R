{
 "cells": [
  {
   "cell_type": "markdown",
   "id": "191d00ba",
   "metadata": {},
   "source": [
    "# Day 19\n",
    "------------------------------------------------------------------------------------------------------------\n",
    "Filter (Where Clause) & Sort"
   ]
  },
  {
   "cell_type": "markdown",
   "id": "63ebff44",
   "metadata": {},
   "source": [
    "1. Create an Excel with data of Student database and add all the values which is required for student management database, Read the excel file and add the datas into a DB (using script)"
   ]
  },
  {
   "cell_type": "code",
   "execution_count": null,
   "id": "b40a0246",
   "metadata": {},
   "outputs": [],
   "source": [
    "import openpyxl"
   ]
  },
  {
   "cell_type": "code",
   "execution_count": null,
   "id": "e5deb6c7",
   "metadata": {},
   "outputs": [],
   "source": [
    "path = \"students.xlsx\"\n",
    "wb_obj = openpyxl.load_workbook(path)\n",
    "sheet_obj = wb_obj.active\n",
    "cell_obj = sheet_obj.cell(row = 5, column = 3)\n",
    "print(cell_obj.value)"
   ]
  },
  {
   "cell_type": "code",
   "execution_count": null,
   "id": "4bb82819",
   "metadata": {},
   "outputs": [],
   "source": [
    "for i in range(1,11):\n",
    "    cell_obj = sheet_obj.cell(row = 5, column = i)\n",
    "    print(cell_obj.value)"
   ]
  },
  {
   "cell_type": "code",
   "execution_count": null,
   "id": "225fcd9f",
   "metadata": {},
   "outputs": [],
   "source": [
    "import mysql.connector\n",
    "\n",
    "mydb = mysql.connector.connect(\n",
    "  host=\"localhost\",\n",
    " user=\"root\",\n",
    "  password=\"yugen123\",\n",
    ")\n",
    "\n",
    "mycursor = mydb.cursor()\n",
    "print(mydb)"
   ]
  },
  {
   "cell_type": "code",
   "execution_count": null,
   "id": "2496c836",
   "metadata": {},
   "outputs": [],
   "source": [
    "dbse = mydb.cursor()\n",
    "\n",
    "dbse.execute(\"CREATE DATABASE Students_Management_System\")"
   ]
  },
  {
   "cell_type": "code",
   "execution_count": null,
   "id": "0fb2ed05",
   "metadata": {},
   "outputs": [],
   "source": [
    "dbse = mydb.cursor()\n",
    "\n",
    "dbse.execute(\"SHOW DATABASES\")\n",
    "\n",
    "for entry in dbse:\n",
    "  print(entry)"
   ]
  },
  {
   "cell_type": "code",
   "execution_count": null,
   "id": "0c611433",
   "metadata": {},
   "outputs": [],
   "source": [
    "mydb = mysql.connector.connect(\n",
    "  host=\"localhost\",\n",
    " user=\"root\",\n",
    "  password=\"1234\",\n",
    "  database=\"students_management_system\"\n",
    ")\n",
    "dbse = mydb.cursor()\n",
    "\n",
    "dbse.execute(\"CREATE TABLE student3 (roll_no INT(10),Reg_no INT(10),NAME VARCHAR(255), semester1 INT(25),semester2 INT(25),semester3 INT(25), CGPA INT(35) ,PHONE_NUMBER INT,email_id VARCHAR(255))\")"
   ]
  },
  {
   "cell_type": "code",
   "execution_count": null,
   "id": "f9fa8ef5",
   "metadata": {},
   "outputs": [],
   "source": [
    "dbse = mydb.cursor()\n",
    "\n",
    "dbse.execute(\"SHOW TABLES\")\n",
    "\n",
    "for value in dbse:\n",
    "  print(value)"
   ]
  },
  {
   "cell_type": "code",
   "execution_count": null,
   "id": "b2c4c7c8",
   "metadata": {},
   "outputs": [],
   "source": [
    "cur = mydb.cursor()\n",
    "cur.execute('SELECT * FROM student3')\n",
    "for row in cur:\n",
    "    print(row)"
   ]
  },
  {
   "cell_type": "code",
   "execution_count": null,
   "id": "03621fe2",
   "metadata": {},
   "outputs": [],
   "source": [
    "import pandas as pd\n",
    "\n",
    "df = pd.read_excel('students.xlsx')"
   ]
  },
  {
   "cell_type": "code",
   "execution_count": null,
   "id": "4905ec4a",
   "metadata": {},
   "outputs": [],
   "source": [
    "import xlrd\n",
    "import MySQLdb"
   ]
  },
  {
   "cell_type": "code",
   "execution_count": null,
   "id": "43aeeadc",
   "metadata": {},
   "outputs": [],
   "source": [
    "xl_sheet = xlrd.open_workbook(\"students.xlsx\")\n",
    "xl_sheet"
   ]
  },
  {
   "cell_type": "code",
   "execution_count": null,
   "id": "0f7f0c6b",
   "metadata": {},
   "outputs": [],
   "source": [
    "sheet_name =xl_sheet.sheet_names()\n",
    "sheet_name"
   ]
  },
  {
   "cell_type": "code",
   "execution_count": null,
   "id": "1a469d5e",
   "metadata": {},
   "outputs": [],
   "source": [
    "mydb = mysql.connector.connect(\n",
    "  host=\"localhost\",\n",
    " user=\"root\",\n",
    "  password=\"1234\",\n",
    "  database=\"students_management_system\"\n",
    ")\n",
    "\n",
    "cur = mydb.cursor()\n",
    "for s in range(0,1):\n",
    "    sheet=xl_sheet.sheet_by_index(s)\n",
    "    sql= \"INSERT INTO student3(roll_no,Reg_no,NAME,semester1,semester2 ,semester3 , CGPA ,email_id) VALUES(%s,%s,%s,%s,%s,%s,%s,%s)\"\n",
    "    for r in range(1,sheet.nrows):\n",
    "        roll_no =sheet.cell(r,0).value\n",
    "        Reg_no =sheet.cell(r,1).value\n",
    "        NAME =sheet.cell(r,2).value\n",
    "        semester1 =sheet.cell(r,3).value\n",
    "        semester2 =sheet.cell(r,4).value\n",
    "        semester3 =sheet.cell(r,5).value\n",
    "        CGPA =sheet.cell(r,6).value\n",
    "        email_id=sheet.cell(r,7).value\n",
    "        values =(roll_no ,Reg_no,NAME ,semester1,semester2 ,semester3 , CGPA ,email_id)\n",
    "        \n",
    "        cur.execute(sql,values)\n",
    "mydb.commit()"
   ]
  },
  {
   "cell_type": "code",
   "execution_count": null,
   "id": "0dbc6261",
   "metadata": {},
   "outputs": [],
   "source": [
    "mycursor = mydb.cursor()\n",
    "\n",
    "mycursor.execute(\"SELECT * FROM student3\")\n",
    "\n",
    "myresult = mycursor.fetchall()\n",
    "\n",
    "for x in myresult:\n",
    "    print(x)"
   ]
  },
  {
   "cell_type": "code",
   "execution_count": null,
   "id": "fdb1b3d9",
   "metadata": {},
   "outputs": [],
   "source": [
    "mycursor = mydb.cursor()\n",
    "\n",
    "mycursor.execute(\"SELECT NAME FROM student3 WHERE CGPA >6\")\n",
    "\n",
    "myresult = mycursor.fetchall()\n",
    "\n",
    "for x in myresult:\n",
    "    print(x)"
   ]
  },
  {
   "cell_type": "code",
   "execution_count": null,
   "id": "f6504e2e",
   "metadata": {},
   "outputs": [],
   "source": [
    "mydb.commit()\n",
    " # Close the database connection\n",
    "mydb.close()"
   ]
  },
  {
   "cell_type": "code",
   "execution_count": null,
   "id": "fb0f2686",
   "metadata": {},
   "outputs": [],
   "source": []
  }
 ],
 "metadata": {
  "kernelspec": {
   "display_name": "Python 3",
   "language": "python",
   "name": "python3"
  },
  "language_info": {
   "codemirror_mode": {
    "name": "ipython",
    "version": 3
   },
   "file_extension": ".py",
   "mimetype": "text/x-python",
   "name": "python",
   "nbconvert_exporter": "python",
   "pygments_lexer": "ipython3",
   "version": "3.9.5"
  }
 },
 "nbformat": 4,
 "nbformat_minor": 5
}
