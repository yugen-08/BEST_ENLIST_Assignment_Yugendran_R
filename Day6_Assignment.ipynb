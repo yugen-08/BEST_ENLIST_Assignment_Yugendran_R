{
  "nbformat": 4,
  "nbformat_minor": 0,
  "metadata": {
    "colab": {
      "name": "Day6_Assignment.ipynb",
      "provenance": []
    },
    "kernelspec": {
      "name": "python3",
      "display_name": "Python 3"
    },
    "language_info": {
      "name": "python"
    }
  },
  "cells": [
    {
      "cell_type": "markdown",
      "metadata": {
        "id": "gPSPVepWuOoB"
      },
      "source": [
        "**DAY 6**"
      ]
    },
    {
      "cell_type": "markdown",
      "metadata": {
        "id": "GjVTUH2wuSVX"
      },
      "source": [
        "**Dictionary,Sets**\n"
      ]
    },
    {
      "cell_type": "markdown",
      "metadata": {
        "id": "9_ywK1dBuccr"
      },
      "source": [
        "1) Write a Python script to merge two Python dictionaries"
      ]
    },
    {
      "cell_type": "code",
      "metadata": {
        "id": "weRuyao9uYyh"
      },
      "source": [
        "dict1={'rahul':99,'priya':95,'maha':89,'anish':88}\n",
        "dict2={'virat':100,'suresh':56,'akshaya':90,'Prema':67}"
      ],
      "execution_count": 1,
      "outputs": []
    },
    {
      "cell_type": "code",
      "metadata": {
        "colab": {
          "base_uri": "https://localhost:8080/"
        },
        "id": "8CD-MYwjvFMA",
        "outputId": "2361da9d-5342-4c88-b9d6-d9bd40e4e2f2"
      },
      "source": [
        "print(dict2.update(dict1))    \n",
        "print(dict2)"
      ],
      "execution_count": 2,
      "outputs": [
        {
          "output_type": "stream",
          "text": [
            "None\n",
            "{'virat': 100, 'suresh': 56, 'akshaya': 90, 'Prema': 67, 'rahul': 99, 'priya': 95, 'maha': 89, 'anish': 88}\n"
          ],
          "name": "stdout"
        }
      ]
    },
    {
      "cell_type": "code",
      "metadata": {
        "colab": {
          "base_uri": "https://localhost:8080/"
        },
        "id": "tzi1jAttvMcA",
        "outputId": "54e60b94-9ed1-4cae-9f3f-ebf578d40650"
      },
      "source": [
        "print(dict1)"
      ],
      "execution_count": 3,
      "outputs": [
        {
          "output_type": "stream",
          "text": [
            "{'rahul': 99, 'priya': 95, 'maha': 89, 'anish': 88}\n"
          ],
          "name": "stdout"
        }
      ]
    },
    {
      "cell_type": "code",
      "metadata": {
        "colab": {
          "base_uri": "https://localhost:8080/"
        },
        "id": "leU8l7N5vROy",
        "outputId": "c7f5780c-0827-49bf-edf4-a2ccdcccbadc"
      },
      "source": [
        "res = {**dict1, **dict2} \n",
        "\n",
        "print(res)"
      ],
      "execution_count": 4,
      "outputs": [
        {
          "output_type": "stream",
          "text": [
            "{'rahul': 99, 'priya': 95, 'maha': 89, 'anish': 88, 'virat': 100, 'suresh': 56, 'akshaya': 90, 'Prema': 67}\n"
          ],
          "name": "stdout"
        }
      ]
    },
    {
      "cell_type": "code",
      "metadata": {
        "colab": {
          "base_uri": "https://localhost:8080/"
        },
        "id": "lBmz2VVhvY4l",
        "outputId": "8c46a15b-aa17-4898-a46e-b990e55467e6"
      },
      "source": [
        "res1 = dict1 and dict2  \n",
        "print(res1)"
      ],
      "execution_count": 5,
      "outputs": [
        {
          "output_type": "stream",
          "text": [
            "{'virat': 100, 'suresh': 56, 'akshaya': 90, 'Prema': 67, 'rahul': 99, 'priya': 95, 'maha': 89, 'anish': 88}\n"
          ],
          "name": "stdout"
        }
      ]
    },
    {
      "cell_type": "code",
      "metadata": {
        "colab": {
          "base_uri": "https://localhost:8080/"
        },
        "id": "iS5xRA9pve_u",
        "outputId": "6a9175ff-8a33-4cb8-df15-bfb0486b653c"
      },
      "source": [
        "print(dict1 ,\" and dictionary 2 is    \", dict2)\n",
        "print()\n",
        "print()\n",
        "dis =dict2 or dict1\n",
        "print(dis)"
      ],
      "execution_count": 6,
      "outputs": [
        {
          "output_type": "stream",
          "text": [
            "{'rahul': 99, 'priya': 95, 'maha': 89, 'anish': 88}  and dictionary 2 is     {'virat': 100, 'suresh': 56, 'akshaya': 90, 'Prema': 67, 'rahul': 99, 'priya': 95, 'maha': 89, 'anish': 88}\n",
            "\n",
            "\n",
            "{'virat': 100, 'suresh': 56, 'akshaya': 90, 'Prema': 67, 'rahul': 99, 'priya': 95, 'maha': 89, 'anish': 88}\n"
          ],
          "name": "stdout"
        }
      ]
    },
    {
      "cell_type": "markdown",
      "metadata": {
        "id": "byheL6wdvkhc"
      },
      "source": [
        "2) Write a Python program to remove a key from a dictionary"
      ]
    },
    {
      "cell_type": "code",
      "metadata": {
        "colab": {
          "base_uri": "https://localhost:8080/"
        },
        "id": "2mdNCfl3vlpD",
        "outputId": "597d9f35-401d-466d-fb82-ba377132c5b5"
      },
      "source": [
        "del dict1['maha']\n",
        "print(dict1)"
      ],
      "execution_count": 8,
      "outputs": [
        {
          "output_type": "stream",
          "text": [
            "{'rahul': 99, 'priya': 95, 'anish': 88}\n"
          ],
          "name": "stdout"
        }
      ]
    },
    {
      "cell_type": "code",
      "metadata": {
        "colab": {
          "base_uri": "https://localhost:8080/"
        },
        "id": "qD0izrhuv0LN",
        "outputId": "a23652dc-1192-407c-85b0-56c076e6ade6"
      },
      "source": [
        "dict2.pop('suresh')"
      ],
      "execution_count": 9,
      "outputs": [
        {
          "output_type": "execute_result",
          "data": {
            "text/plain": [
              "56"
            ]
          },
          "metadata": {
            "tags": []
          },
          "execution_count": 9
        }
      ]
    },
    {
      "cell_type": "code",
      "metadata": {
        "colab": {
          "base_uri": "https://localhost:8080/"
        },
        "id": "-4mChayAv6tE",
        "outputId": "ee08ec0f-bf74-4ac7-928e-4900202e8e8f"
      },
      "source": [
        "print(dict2)\n"
      ],
      "execution_count": 10,
      "outputs": [
        {
          "output_type": "stream",
          "text": [
            "{'virat': 100, 'akshaya': 90, 'Prema': 67, 'rahul': 99, 'priya': 95, 'maha': 89, 'anish': 88}\n"
          ],
          "name": "stdout"
        }
      ]
    },
    {
      "cell_type": "code",
      "metadata": {
        "colab": {
          "base_uri": "https://localhost:8080/"
        },
        "id": "krLEuXjgv-At",
        "outputId": "605a73f2-354a-4ddc-d152-0de3de8066d5"
      },
      "source": [
        "dict2.popitem() \n",
        "print(dict2)"
      ],
      "execution_count": 11,
      "outputs": [
        {
          "output_type": "stream",
          "text": [
            "{'virat': 100, 'akshaya': 90, 'Prema': 67, 'rahul': 99, 'priya': 95, 'maha': 89}\n"
          ],
          "name": "stdout"
        }
      ]
    },
    {
      "cell_type": "markdown",
      "metadata": {
        "id": "2zVQnSefwGam"
      },
      "source": [
        "3) Write a Python program to map two lists into a dictionary"
      ]
    },
    {
      "cell_type": "code",
      "metadata": {
        "colab": {
          "base_uri": "https://localhost:8080/"
        },
        "id": "kVYW82qiwHTD",
        "outputId": "b56bf42f-1603-407c-8406-a2a1b68e6a6d"
      },
      "source": [
        "d1=['divya','sankar','renuka','sid','manik','nandu']\n",
        "d2=[76,89,87,65,75,80]\n",
        "res = {}\n",
        "for key in d1:\n",
        "    for value in d2:\n",
        "        res[key] = value\n",
        "        d2.remove(value)\n",
        "        break  \n",
        "print(\"Dictionary is \",str(res))"
      ],
      "execution_count": 12,
      "outputs": [
        {
          "output_type": "stream",
          "text": [
            "Dictionary is  {'divya': 76, 'sankar': 89, 'renuka': 87, 'sid': 65, 'manik': 75, 'nandu': 80}\n"
          ],
          "name": "stdout"
        }
      ]
    },
    {
      "cell_type": "code",
      "metadata": {
        "colab": {
          "base_uri": "https://localhost:8080/"
        },
        "id": "UnEbco1kwQ75",
        "outputId": "c7cd7256-59cd-47a8-f3aa-e2a59af2b3f7"
      },
      "source": [
        "d1=['divya','sankar','renuka','sid','manik','nandu']\n",
        "d2=[76,89,87,65,75,80]\n",
        "res1={d1[i]:d2[i] for i in range(len(d1))}\n",
        "print(res1)"
      ],
      "execution_count": 13,
      "outputs": [
        {
          "output_type": "stream",
          "text": [
            "{'divya': 76, 'sankar': 89, 'renuka': 87, 'sid': 65, 'manik': 75, 'nandu': 80}\n"
          ],
          "name": "stdout"
        }
      ]
    },
    {
      "cell_type": "code",
      "metadata": {
        "colab": {
          "base_uri": "https://localhost:8080/"
        },
        "id": "QG2AG79uwUpJ",
        "outputId": "9082edd3-f8a1-441b-ce5a-2578f6b3ea10"
      },
      "source": [
        "d1=['divya','sankar','renuka','sid','manik','nandu']\n",
        "d2=[76,89,87,65,75,80]\n",
        "rs2 = dict(zip(d1,d2))\n",
        "print(rs2)"
      ],
      "execution_count": 14,
      "outputs": [
        {
          "output_type": "stream",
          "text": [
            "{'divya': 76, 'sankar': 89, 'renuka': 87, 'sid': 65, 'manik': 75, 'nandu': 80}\n"
          ],
          "name": "stdout"
        }
      ]
    },
    {
      "cell_type": "markdown",
      "metadata": {
        "id": "5lMS_g9GwXv3"
      },
      "source": [
        "4) Write a Python program to find the length of a set"
      ]
    },
    {
      "cell_type": "code",
      "metadata": {
        "colab": {
          "base_uri": "https://localhost:8080/"
        },
        "id": "-2ivOdtTwY3U",
        "outputId": "86aea5d3-c33c-499f-c23c-fe235d8187dc"
      },
      "source": [
        "name={'divi','renu','sid','shri','anu','preu','manik','nandu'}\n",
        "print(\"Number of names in Set is :\",len(name))"
      ],
      "execution_count": 15,
      "outputs": [
        {
          "output_type": "stream",
          "text": [
            "Number of names in Set is : 8\n"
          ],
          "name": "stdout"
        }
      ]
    },
    {
      "cell_type": "markdown",
      "metadata": {
        "id": "dFJGW_0IwfvR"
      },
      "source": [
        "trying with add, update,remove and discard functon in set"
      ]
    },
    {
      "cell_type": "code",
      "metadata": {
        "colab": {
          "base_uri": "https://localhost:8080/"
        },
        "id": "C-GCDD64wiq0",
        "outputId": "c9ace5e0-31f7-4e29-97e5-4463b47d7d4f"
      },
      "source": [
        "name={'divi','renu','sid','shri','anu','preu','manik','nandu'}\n",
        "name2={'sivi','manvi','jeevika','dabbu','komolika'}\n",
        "name.update(name2)\n",
        "print(\"Adding two  sets :\", name)"
      ],
      "execution_count": 16,
      "outputs": [
        {
          "output_type": "stream",
          "text": [
            "Adding two  sets : {'dabbu', 'divi', 'sivi', 'nandu', 'renu', 'shri', 'komolika', 'manik', 'manvi', 'preu', 'anu', 'jeevika', 'sid'}\n"
          ],
          "name": "stdout"
        }
      ]
    },
    {
      "cell_type": "code",
      "metadata": {
        "id": "90izCgBswnpm"
      },
      "source": [
        "name.add(\"sara\")"
      ],
      "execution_count": 17,
      "outputs": []
    },
    {
      "cell_type": "code",
      "metadata": {
        "colab": {
          "base_uri": "https://localhost:8080/"
        },
        "id": "lQe56LJ3wqkF",
        "outputId": "ccd12d38-e835-487f-f0ee-5edc45ad35d7"
      },
      "source": [
        "print(name)"
      ],
      "execution_count": 18,
      "outputs": [
        {
          "output_type": "stream",
          "text": [
            "{'dabbu', 'divi', 'sara', 'sivi', 'nandu', 'renu', 'shri', 'komolika', 'manik', 'manvi', 'preu', 'anu', 'jeevika', 'sid'}\n"
          ],
          "name": "stdout"
        }
      ]
    },
    {
      "cell_type": "code",
      "metadata": {
        "id": "k-J7XEInwt93"
      },
      "source": [
        "name.remove('sara')"
      ],
      "execution_count": 19,
      "outputs": []
    },
    {
      "cell_type": "code",
      "metadata": {
        "id": "-XsW41u0wwnc"
      },
      "source": [
        "name.discard('divi')"
      ],
      "execution_count": 20,
      "outputs": []
    },
    {
      "cell_type": "code",
      "metadata": {
        "colab": {
          "base_uri": "https://localhost:8080/"
        },
        "id": "0cU4O4IawzeY",
        "outputId": "3bb66586-39e9-45c0-a565-8ab9f40151aa"
      },
      "source": [
        "print(name)"
      ],
      "execution_count": 21,
      "outputs": [
        {
          "output_type": "stream",
          "text": [
            "{'dabbu', 'sivi', 'nandu', 'renu', 'shri', 'komolika', 'manik', 'manvi', 'preu', 'anu', 'jeevika', 'sid'}\n"
          ],
          "name": "stdout"
        }
      ]
    },
    {
      "cell_type": "markdown",
      "metadata": {
        "id": "PlTPiG9fw5Pj"
      },
      "source": [
        "5) Write a Python program to remove the intersection of a 2nd set from the 1st sets"
      ]
    },
    {
      "cell_type": "code",
      "metadata": {
        "colab": {
          "base_uri": "https://localhost:8080/"
        },
        "id": "D5h5N2x4w8Vq",
        "outputId": "4a558109-406a-44fd-d170-131d9cd1e5e9"
      },
      "source": [
        "a1={12,13,14,15,16,17,21,12,13,14,121}\n",
        "a2={12,13,14,11,88,97,65,15}\n",
        "print(a1.intersection(a2))"
      ],
      "execution_count": 22,
      "outputs": [
        {
          "output_type": "stream",
          "text": [
            "{12, 13, 14, 15}\n"
          ],
          "name": "stdout"
        }
      ]
    }
  ]
}