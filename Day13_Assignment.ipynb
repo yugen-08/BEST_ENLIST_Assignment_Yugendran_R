{
  "nbformat": 4,
  "nbformat_minor": 0,
  "metadata": {
    "colab": {
      "name": "Day13_Assignment.ipynb",
      "provenance": []
    },
    "kernelspec": {
      "name": "python3",
      "display_name": "Python 3"
    },
    "language_info": {
      "name": "python"
    }
  },
  "cells": [
    {
      "cell_type": "markdown",
      "metadata": {
        "id": "1XPdVjaPl0QU"
      },
      "source": [
        "DAY 13\n",
        "------------------------------------------------------------------------------------------------------------\n",
        "RegEX"
      ]
    },
    {
      "cell_type": "markdown",
      "metadata": {
        "id": "sH-ZTkr6l4Rk"
      },
      "source": [
        "Write a Python program for all the cases which can check a string contains only a certain set of characters\n",
        "(in this case a-z, A-Z and 0-9)."
      ]
    },
    {
      "cell_type": "code",
      "metadata": {
        "id": "lkO5Sf82l9PG"
      },
      "source": [
        "import re"
      ],
      "execution_count": 1,
      "outputs": []
    },
    {
      "cell_type": "code",
      "metadata": {
        "id": "6XxidTfSmDUT"
      },
      "source": [
        "def is_allowed_specific_char(string):\n",
        "    charRe = re.compile(r'[^a-zA-Z0-9.]')\n",
        "    string = charRe.search(string)\n",
        "    return not bool(string)"
      ],
      "execution_count": 2,
      "outputs": []
    },
    {
      "cell_type": "code",
      "metadata": {
        "colab": {
          "base_uri": "https://localhost:8080/"
        },
        "id": "pwy2bMGsmGUp",
        "outputId": "6b3204ef-b65f-44d1-91f8-26670a865e60"
      },
      "source": [
        "print(is_allowed_specific_char(\"ABCDEFabcdef123450\")) \n",
        "print(is_allowed_specific_char(\"1233@@#$$%$\"))"
      ],
      "execution_count": 3,
      "outputs": [
        {
          "output_type": "stream",
          "text": [
            "True\n",
            "False\n"
          ],
          "name": "stdout"
        }
      ]
    },
    {
      "cell_type": "markdown",
      "metadata": {
        "id": "3fAXrUPNmJkR"
      },
      "source": [
        "Write a Python program that matches a word containing 'ab'."
      ]
    },
    {
      "cell_type": "code",
      "metadata": {
        "id": "pZgYDbkfmLvD"
      },
      "source": [
        "def text_match(text):\n",
        "        patterns = '\\w*ab.\\w*'\n",
        "        if re.search(patterns,  text):\n",
        "                return 'Found a match!'\n",
        "        else:\n",
        "                return('Not matched!')"
      ],
      "execution_count": 4,
      "outputs": []
    },
    {
      "cell_type": "code",
      "metadata": {
        "colab": {
          "base_uri": "https://localhost:8080/"
        },
        "id": "mh8k8Kf0mPqY",
        "outputId": "35233b25-e885-49b1-b8b6-ec920d2b8eff"
      },
      "source": [
        "print(text_match(\"Python program\"))\n",
        "print(text_match(\"ababbbabab\"))"
      ],
      "execution_count": 5,
      "outputs": [
        {
          "output_type": "stream",
          "text": [
            "Not matched!\n",
            "Found a match!\n"
          ],
          "name": "stdout"
        }
      ]
    },
    {
      "cell_type": "markdown",
      "metadata": {
        "id": "ZYyH9qPnmSsj"
      },
      "source": [
        "Write a Python program to check for a number at the end of a word/sentence."
      ]
    },
    {
      "cell_type": "code",
      "metadata": {
        "id": "MwWZuP-fmU3U"
      },
      "source": [
        "def end_num(string):\n",
        "    text = re.compile(r\".*[0-9]$\")\n",
        "    if text.match(string):\n",
        "        return True\n",
        "    else:\n",
        "        return False"
      ],
      "execution_count": 6,
      "outputs": []
    },
    {
      "cell_type": "code",
      "metadata": {
        "colab": {
          "base_uri": "https://localhost:8080/"
        },
        "id": "809Bkz8gmXS2",
        "outputId": "a632eefa-a4cf-4cf2-b87d-171037d5aadc"
      },
      "source": [
        "print(end_num('abcdef12233'))\n",
        "print(end_num('abcdef634556'))\n",
        "print(end_num('abc'))"
      ],
      "execution_count": 7,
      "outputs": [
        {
          "output_type": "stream",
          "text": [
            "True\n",
            "True\n",
            "False\n"
          ],
          "name": "stdout"
        }
      ]
    },
    {
      "cell_type": "markdown",
      "metadata": {
        "id": "ddnSeB7Emauv"
      },
      "source": [
        "Write a Python program to search the numbers (0-9) of length between 1 to 3 in a given string"
      ]
    },
    {
      "cell_type": "code",
      "metadata": {
        "colab": {
          "base_uri": "https://localhost:8080/"
        },
        "id": "FJ4d-U1UmbMd",
        "outputId": "7b11f553-3369-4255-b655-d8cd211b5e21"
      },
      "source": [
        "results = re.finditer(r\"([0-9]{1,3})\", \"Exercises number 1, 9, 11, and 222 are important\")\n",
        "print(\"Number of length 1 to 3\")\n",
        "for n in results:\n",
        "    print(n.group(0))"
      ],
      "execution_count": 8,
      "outputs": [
        {
          "output_type": "stream",
          "text": [
            "Number of length 1 to 3\n",
            "1\n",
            "9\n",
            "11\n",
            "222\n"
          ],
          "name": "stdout"
        }
      ]
    },
    {
      "cell_type": "markdown",
      "metadata": {
        "id": "m9_XIUPLmgL_"
      },
      "source": [
        "Write a Python program to match a string that contains only uppercase letters"
      ]
    },
    {
      "cell_type": "code",
      "metadata": {
        "id": "jz8MqXKUmhV_"
      },
      "source": [
        "def text_match(text):\n",
        "        patterns = '^[a-zA-Z0-9_]*$'\n",
        "        if re.search(patterns,  text):\n",
        "                return 'Found a match!'\n",
        "        else:\n",
        "                return('Not matched!')"
      ],
      "execution_count": 9,
      "outputs": []
    },
    {
      "cell_type": "code",
      "metadata": {
        "colab": {
          "base_uri": "https://localhost:8080/"
        },
        "id": "9-2WewAjmnwb",
        "outputId": "9f84e934-391e-4255-833b-0d405e51ebcd"
      },
      "source": [
        "print(text_match(\"The quick brown fox jumps over the lazy dog.\"))\n",
        "print(text_match(\"Python_Exercises_1\"))"
      ],
      "execution_count": 10,
      "outputs": [
        {
          "output_type": "stream",
          "text": [
            "Not matched!\n",
            "Found a match!\n"
          ],
          "name": "stdout"
        }
      ]
    }
  ]
}