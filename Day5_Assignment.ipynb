{
  "nbformat": 4,
  "nbformat_minor": 0,
  "metadata": {
    "colab": {
      "name": "Day5_Assignment.ipynb",
      "provenance": []
    },
    "kernelspec": {
      "name": "python3",
      "display_name": "Python 3"
    },
    "language_info": {
      "name": "python"
    }
  },
  "cells": [
    {
      "cell_type": "markdown",
      "metadata": {
        "id": "YVjC0LOja62v"
      },
      "source": [
        "**DAY 5**"
      ]
    },
    {
      "cell_type": "code",
      "metadata": {
        "id": "CfutSxtnbDiC"
      },
      "source": [
        "User Inputs, Other Important Datatypes\n",
        "1) Write a program to create a list of n integer values and do the following¶"
      ],
      "execution_count": null,
      "outputs": []
    },
    {
      "cell_type": "code",
      "metadata": {
        "colab": {
          "base_uri": "https://localhost:8080/"
        },
        "id": "gcSmURbLbVxO",
        "outputId": "9f42d3c4-1e24-47d6-c820-554a13f36c47"
      },
      "source": [
        "n=7\n",
        "a=[]\n",
        "for i in range(n):\n",
        "    x=int(input())\n",
        "    a.append(x)\n",
        "    "
      ],
      "execution_count": 1,
      "outputs": [
        {
          "output_type": "stream",
          "text": [
            "1\n",
            "2\n",
            "3\n",
            "4\n",
            "5\n",
            "6\n",
            "7\n"
          ],
          "name": "stdout"
        }
      ]
    },
    {
      "cell_type": "code",
      "metadata": {
        "colab": {
          "base_uri": "https://localhost:8080/"
        },
        "id": "cAQrQoEzb6qm",
        "outputId": "46e032c7-22e8-4cfe-c807-edcf297c7e91"
      },
      "source": [
        "for i in a:\n",
        "    print(i)"
      ],
      "execution_count": 2,
      "outputs": [
        {
          "output_type": "stream",
          "text": [
            "1\n",
            "2\n",
            "3\n",
            "4\n",
            "5\n",
            "6\n",
            "7\n"
          ],
          "name": "stdout"
        }
      ]
    },
    {
      "cell_type": "code",
      "metadata": {
        "colab": {
          "base_uri": "https://localhost:8080/"
        },
        "id": "eczj89oscAGq",
        "outputId": "d465accb-74af-4d12-986f-ad52765bdd14"
      },
      "source": [
        "for i in range(len(a)):\n",
        "    print(a[i])"
      ],
      "execution_count": 3,
      "outputs": [
        {
          "output_type": "stream",
          "text": [
            "1\n",
            "2\n",
            "3\n",
            "4\n",
            "5\n",
            "6\n",
            "7\n"
          ],
          "name": "stdout"
        }
      ]
    },
    {
      "cell_type": "markdown",
      "metadata": {
        "id": "iFp_REoMcEhq"
      },
      "source": [
        "*Adding elements in list*"
      ]
    },
    {
      "cell_type": "code",
      "metadata": {
        "colab": {
          "base_uri": "https://localhost:8080/"
        },
        "id": "6xrG0f0CcKjF",
        "outputId": "b5e2478d-df59-4ea1-ca89-a7225cee1dfa"
      },
      "source": [
        "print(\"A=\",a)\n",
        "b=['a','s','d','g','h']\n",
        "a+=b\n",
        "print(\"After adding another list :\",a)"
      ],
      "execution_count": 4,
      "outputs": [
        {
          "output_type": "stream",
          "text": [
            "A= [1, 2, 3, 4, 5, 6, 7]\n",
            "After adding another list : [1, 2, 3, 4, 5, 6, 7, 'a', 's', 'd', 'g', 'h']\n"
          ],
          "name": "stdout"
        }
      ]
    },
    {
      "cell_type": "code",
      "metadata": {
        "colab": {
          "base_uri": "https://localhost:8080/"
        },
        "id": "obD67dgFcWm7",
        "outputId": "7490cd3b-7d16-4c93-eacc-1e3a6e7170b8"
      },
      "source": [
        "c=[23,3,2,1,5]\n",
        "a.extend(c)\n",
        "a"
      ],
      "execution_count": 5,
      "outputs": [
        {
          "output_type": "execute_result",
          "data": {
            "text/plain": [
              "[1, 2, 3, 4, 5, 6, 7, 'a', 's', 'd', 'g', 'h', 23, 3, 2, 1, 5]"
            ]
          },
          "metadata": {
            "tags": []
          },
          "execution_count": 5
        }
      ]
    },
    {
      "cell_type": "code",
      "metadata": {
        "colab": {
          "base_uri": "https://localhost:8080/"
        },
        "id": "a9khTJQuccNG",
        "outputId": "00eb8bca-0e32-4d80-875e-5e76be642c60"
      },
      "source": [
        "a.insert(4,\"I am newly inserted element\")\n",
        "print(a)"
      ],
      "execution_count": 6,
      "outputs": [
        {
          "output_type": "stream",
          "text": [
            "[1, 2, 3, 4, 'I am newly inserted element', 5, 6, 7, 'a', 's', 'd', 'g', 'h', 23, 3, 2, 1, 5]\n"
          ],
          "name": "stdout"
        }
      ]
    },
    {
      "cell_type": "markdown",
      "metadata": {
        "id": "FiDR_EXbcdvO"
      },
      "source": [
        "Deleting an element in *list*"
      ]
    },
    {
      "cell_type": "code",
      "metadata": {
        "colab": {
          "base_uri": "https://localhost:8080/"
        },
        "id": "VeUddyI8cg9e",
        "outputId": "32d91308-868d-4345-a63a-777b8f66bb42"
      },
      "source": [
        "del a[9]\n",
        "print(a)"
      ],
      "execution_count": 7,
      "outputs": [
        {
          "output_type": "stream",
          "text": [
            "[1, 2, 3, 4, 'I am newly inserted element', 5, 6, 7, 'a', 'd', 'g', 'h', 23, 3, 2, 1, 5]\n"
          ],
          "name": "stdout"
        }
      ]
    },
    {
      "cell_type": "code",
      "metadata": {
        "colab": {
          "base_uri": "https://localhost:8080/"
        },
        "id": "bfviOiNVdBck",
        "outputId": "7ecdd3a2-557e-489b-eae3-083127558b10"
      },
      "source": [
        "del a[8:17]\n",
        "print(a)"
      ],
      "execution_count": 8,
      "outputs": [
        {
          "output_type": "stream",
          "text": [
            "[1, 2, 3, 4, 'I am newly inserted element', 5, 6, 7]\n"
          ],
          "name": "stdout"
        }
      ]
    },
    {
      "cell_type": "code",
      "metadata": {
        "colab": {
          "base_uri": "https://localhost:8080/"
        },
        "id": "AyrO4k91dFZf",
        "outputId": "e8e5d6d4-c596-4bc9-f0f8-63959537ac59"
      },
      "source": [
        "a.pop() \n",
        "print(a)"
      ],
      "execution_count": 9,
      "outputs": [
        {
          "output_type": "stream",
          "text": [
            "[1, 2, 3, 4, 'I am newly inserted element', 5, 6]\n"
          ],
          "name": "stdout"
        }
      ]
    },
    {
      "cell_type": "code",
      "metadata": {
        "colab": {
          "base_uri": "https://localhost:8080/"
        },
        "id": "N5RAHw9OdKlM",
        "outputId": "648eaeed-feb6-42aa-eccc-615da9fa79e1"
      },
      "source": [
        "a.pop(-2) \n",
        "print(a)"
      ],
      "execution_count": 10,
      "outputs": [
        {
          "output_type": "stream",
          "text": [
            "[1, 2, 3, 4, 'I am newly inserted element', 6]\n"
          ],
          "name": "stdout"
        }
      ]
    },
    {
      "cell_type": "code",
      "metadata": {
        "colab": {
          "base_uri": "https://localhost:8080/"
        },
        "id": "a_mV87SBdQKI",
        "outputId": "a6c32987-113e-43a9-9c22-44cba8145244"
      },
      "source": [
        "a.remove(4)\n",
        "print(a)"
      ],
      "execution_count": 11,
      "outputs": [
        {
          "output_type": "stream",
          "text": [
            "[1, 2, 3, 'I am newly inserted element', 6]\n"
          ],
          "name": "stdout"
        }
      ]
    },
    {
      "cell_type": "code",
      "metadata": {
        "colab": {
          "base_uri": "https://localhost:8080/"
        },
        "id": "cHC5Z8uCdUMn",
        "outputId": "96486816-975f-4f40-9eac-f2c18795c0de"
      },
      "source": [
        "a.remove(3)\n",
        "print(a)"
      ],
      "execution_count": 12,
      "outputs": [
        {
          "output_type": "stream",
          "text": [
            "[1, 2, 'I am newly inserted element', 6]\n"
          ],
          "name": "stdout"
        }
      ]
    },
    {
      "cell_type": "markdown",
      "metadata": {
        "id": "A-myNvQMdcZG"
      },
      "source": [
        "Store the largest number from the list to a variable"
      ]
    },
    {
      "cell_type": "code",
      "metadata": {
        "colab": {
          "base_uri": "https://localhost:8080/"
        },
        "id": "ToWzIdKrdosv",
        "outputId": "bb8c2f29-fd32-4c09-eb89-1a7671761726"
      },
      "source": [
        "list =[90,98,78,67,56,45]\n",
        "max_i=max(list)\n",
        "print(\"maximun number in list\",max_i)"
      ],
      "execution_count": 13,
      "outputs": [
        {
          "output_type": "stream",
          "text": [
            "maximun number in list 98\n"
          ],
          "name": "stdout"
        }
      ]
    },
    {
      "cell_type": "markdown",
      "metadata": {
        "id": "z3fTyV8mdynE"
      },
      "source": [
        "Store the Smallest number from the list to a variable"
      ]
    },
    {
      "cell_type": "code",
      "metadata": {
        "colab": {
          "base_uri": "https://localhost:8080/"
        },
        "id": "-VK-dVxcdzna",
        "outputId": "688d90bb-9276-400b-b49e-ad8ae1e9b673"
      },
      "source": [
        "list =[90,98,78,67,56,45]\n",
        "min_i=min(list)\n",
        "print(\"minimun number in list\",min_i)"
      ],
      "execution_count": 14,
      "outputs": [
        {
          "output_type": "stream",
          "text": [
            "minimun number in list 45\n"
          ],
          "name": "stdout"
        }
      ]
    },
    {
      "cell_type": "markdown",
      "metadata": {
        "id": "hiGvgA1teAGz"
      },
      "source": [
        "**Create a tuple and print the reverse of the created tuple**"
      ]
    },
    {
      "cell_type": "code",
      "metadata": {
        "colab": {
          "base_uri": "https://localhost:8080/"
        },
        "id": "JnsNPTiJeETL",
        "outputId": "41be30ef-64a6-46ed-c350-b49232528186"
      },
      "source": [
        "tup =(12,12,23,34,34,45,46,47,87,56)\n",
        "s=sorted(tup)\n",
        "print(\"tuple before sorting\",tup)\n",
        "print(\"Reverse the tuple \",sorted(tup,reverse=True))\n",
        "print(\"Sorted tuplr\",s)"
      ],
      "execution_count": 15,
      "outputs": [
        {
          "output_type": "stream",
          "text": [
            "tuple before sorting (12, 12, 23, 34, 34, 45, 46, 47, 87, 56)\n",
            "Reverse the tuple  [87, 56, 47, 46, 45, 34, 34, 23, 12, 12]\n",
            "Sorted tuplr [12, 12, 23, 34, 34, 45, 46, 47, 56, 87]\n"
          ],
          "name": "stdout"
        }
      ]
    },
    {
      "cell_type": "code",
      "metadata": {
        "colab": {
          "base_uri": "https://localhost:8080/"
        },
        "id": "FI4VRJleeKTG",
        "outputId": "fb0a04ff-9ba6-446b-8b26-53e537dc5912"
      },
      "source": [
        "r=sorted(s, reverse=True)\n",
        "print(\"reverse of sorted tuple is \",r)"
      ],
      "execution_count": 16,
      "outputs": [
        {
          "output_type": "stream",
          "text": [
            "reverse of sorted tuple is  [87, 56, 47, 46, 45, 34, 34, 23, 12, 12]\n"
          ],
          "name": "stdout"
        }
      ]
    },
    {
      "cell_type": "markdown",
      "metadata": {
        "id": "dT9SCQnreOHD"
      },
      "source": [
        "** Create a Tuple And Convert into List**"
      ]
    },
    {
      "cell_type": "code",
      "metadata": {
        "id": "4HuRyDDieQPf"
      },
      "source": [
        "tuple =(12,12,23,34,34,45,46,47,87,56)\n",
        "\n",
        "print(\"tuple is \",tuple)\n",
        "list1=list(tuple)\n",
        "print(\"Tuple in form as list \",list1)"
      ],
      "execution_count": null,
      "outputs": []
    },
    {
      "cell_type": "code",
      "metadata": {
        "id": "A7pVuQ--gfTX"
      },
      "source": [
        ""
      ],
      "execution_count": null,
      "outputs": []
    }
  ]
}