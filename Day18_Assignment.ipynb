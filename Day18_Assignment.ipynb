{
 "cells": [
  {
   "cell_type": "code",
   "execution_count": 1,
   "id": "b84ae79e",
   "metadata": {},
   "outputs": [
    {
     "name": "stdout",
     "output_type": "stream",
     "text": [
      "<mysql.connector.connection.MySQLConnection object at 0x00000202175FC6D0>\n"
     ]
    }
   ],
   "source": [
    "import mysql.connector as sql\n",
    "\n",
    "mydb = sql.connect(\n",
    "    host=\"localhost\",\n",
    "    user=\"root\",\n",
    "    passwd=\"yugen123\",\n",
    "    use_pure = True\n",
    ")\n",
    "\n",
    "\n",
    "print(mydb)\n"
   ]
  },
  {
   "cell_type": "markdown",
   "id": "a2289f65",
   "metadata": {},
   "source": [
    "# DAY18 Assignment"
   ]
  },
  {
   "cell_type": "code",
   "execution_count": 3,
   "id": "d42c320d",
   "metadata": {},
   "outputs": [],
   "source": [
    "dbse = mydb.cursor()\n",
    "\n",
    "dbse.execute(\"CREATE DATABASE Doctors1\")\n"
   ]
  },
  {
   "cell_type": "code",
   "execution_count": 4,
   "id": "6943628b",
   "metadata": {},
   "outputs": [
    {
     "name": "stdout",
     "output_type": "stream",
     "text": [
      "('doctors1',)\n",
      "('information_schema',)\n",
      "('mysql',)\n",
      "('performance_schema',)\n",
      "('sys',)\n"
     ]
    }
   ],
   "source": [
    "dbse = mydb.cursor()\n",
    "\n",
    "dbse.execute(\"SHOW DATABASES\")\n",
    "\n",
    "for entry in dbse:\n",
    "  print(entry)"
   ]
  },
  {
   "cell_type": "code",
   "execution_count": 6,
   "id": "e72110d5",
   "metadata": {},
   "outputs": [],
   "source": [
    "mydb = mysql.connector.connect(\n",
    "  host=\"localhost\",\n",
    " user=\"root\",\n",
    "  password=\"yugen123\",\n",
    "  database=\"Doctors1\"\n",
    ")\n",
    "dbse = mydb.cursor()\n",
    "\n",
    "dbse.execute(\"CREATE TABLE Doctors (dr_id VARCHAR(255), Patient_visited VARCHAR(255))\")"
   ]
  },
  {
   "cell_type": "code",
   "execution_count": 7,
   "id": "e8c03a58",
   "metadata": {},
   "outputs": [
    {
     "name": "stdout",
     "output_type": "stream",
     "text": [
      "('doctors',)\n"
     ]
    }
   ],
   "source": [
    "dbse = mydb.cursor()\n",
    "\n",
    "dbse.execute(\"SHOW TABLES\")\n",
    "\n",
    "for value in dbse:\n",
    "  print(value)"
   ]
  },
  {
   "cell_type": "code",
   "execution_count": 8,
   "id": "e90d7394",
   "metadata": {},
   "outputs": [
    {
     "name": "stdout",
     "output_type": "stream",
     "text": [
      "16 was inserted.\n"
     ]
    }
   ],
   "source": [
    "dbse = mydb.cursor()\n",
    "\n",
    "sql = \"INSERT INTO Doctors (dr_id , Patient_visited) VALUES (%s,%s)\"\n",
    "val = [\n",
    "  ('DID1','10'),\n",
    "    ('DID2','3'),\n",
    "    ('DID3','8'),\n",
    "    ('DID5','0'),\n",
    "    ('DID123','15'),\n",
    "    ('DID26','9'),\n",
    "    ('DID78','0'),\n",
    "    ('DID65','0'),\n",
    "     ('DID23','15'),\n",
    "    ('DID262','9'),\n",
    "    ('DID783','0'),\n",
    "    ('DID651','0'), \n",
    "    ('DID13','19'),\n",
    "    ('DID267','7'),\n",
    "    ('DID8','0'),\n",
    "    ('DID59','0')    \n",
    "]\n",
    "\n",
    "dbse.executemany(sql, val)\n",
    "\n",
    "mydb.commit()\n",
    "\n",
    "print(dbse.rowcount, \"was inserted.\")"
   ]
  },
  {
   "cell_type": "markdown",
   "id": "0820c107",
   "metadata": {},
   "source": [
    " 2. Get the doctor(s) who have more than 5 patients visited\n",
    " "
   ]
  },
  {
   "cell_type": "code",
   "execution_count": 9,
   "id": "cdca0abd",
   "metadata": {},
   "outputs": [
    {
     "name": "stdout",
     "output_type": "stream",
     "text": [
      "('DID1', '10')\n",
      "('DID3', '8')\n",
      "('DID123', '15')\n",
      "('DID26', '9')\n",
      "('DID23', '15')\n",
      "('DID262', '9')\n",
      "('DID13', '19')\n",
      "('DID267', '7')\n"
     ]
    }
   ],
   "source": [
    "mycursor = mydb.cursor()\n",
    "\n",
    "mycursor.execute(\"SELECT * FROM Doctors where Patient_visited >5\")\n",
    "\n",
    "myresult = mycursor.fetchall()\n",
    "\n",
    "for x in myresult:\n",
    "  print(x)"
   ]
  },
  {
   "cell_type": "markdown",
   "id": "03ef9b0c",
   "metadata": {},
   "source": [
    "3. Get the doctors with no patients visit"
   ]
  },
  {
   "cell_type": "code",
   "execution_count": 10,
   "id": "7cdbb2ed",
   "metadata": {},
   "outputs": [
    {
     "name": "stdout",
     "output_type": "stream",
     "text": [
      "('DID5', '0')\n",
      "('DID78', '0')\n",
      "('DID65', '0')\n",
      "('DID783', '0')\n",
      "('DID651', '0')\n",
      "('DID8', '0')\n",
      "('DID59', '0')\n"
     ]
    }
   ],
   "source": [
    "mycursor = mydb.cursor()\n",
    "\n",
    "mycursor.execute(\"SELECT * FROM Doctors where Patient_visited=0\")\n",
    "\n",
    "myresult = mycursor.fetchall()\n",
    "\n",
    "for x in myresult:\n",
    "  print(x)"
   ]
  }
 ],
 "metadata": {
  "kernelspec": {
   "display_name": "Python 3",
   "language": "python",
   "name": "python3"
  },
  "language_info": {
   "codemirror_mode": {
    "name": "ipython",
    "version": 3
   },
   "file_extension": ".py",
   "mimetype": "text/x-python",
   "name": "python",
   "nbconvert_exporter": "python",
   "pygments_lexer": "ipython3",
   "version": "3.9.5"
  }
 },
 "nbformat": 4,
 "nbformat_minor": 5
}
