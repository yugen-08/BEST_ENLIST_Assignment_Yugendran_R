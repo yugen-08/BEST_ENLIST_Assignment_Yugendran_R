{
  "nbformat": 4,
  "nbformat_minor": 0,
  "metadata": {
    "colab": {
      "name": "Day28_Assignment.ipynb",
      "provenance": []
    },
    "kernelspec": {
      "name": "python3",
      "display_name": "Python 3"
    },
    "language_info": {
      "name": "python"
    }
  },
  "cells": [
    {
      "cell_type": "markdown",
      "metadata": {
        "id": "1j3F1pF8WGjb"
      },
      "source": [
        "**Day 28**\n",
        "--------------------------------------------------------------------------------------------------------\n",
        "Python - Multithreaded Programming"
      ]
    },
    {
      "cell_type": "markdown",
      "metadata": {
        "id": "CbSxRE6NWHQb"
      },
      "source": [
        "1. Define a subclass using threading.Thread class."
      ]
    },
    {
      "cell_type": "code",
      "metadata": {
        "id": "ArNTDEyAWRO0"
      },
      "source": [
        "import threading\n",
        "import time"
      ],
      "execution_count": 1,
      "outputs": []
    },
    {
      "cell_type": "code",
      "metadata": {
        "id": "bZHGsLZiWVkC"
      },
      "source": [
        "exitFlag = 0"
      ],
      "execution_count": 2,
      "outputs": []
    },
    {
      "cell_type": "code",
      "metadata": {
        "id": "XyMdfSyRWYY0"
      },
      "source": [
        "class myThread(threading.Thread):\n",
        "    def __init__(self, threadID, name, counter):\n",
        "        threading.Thread.__init__(self)\n",
        "        self.threadID = threadID\n",
        "        self.name = name\n",
        "        self.counter = counter\n",
        "    def run(self):\n",
        "        print(\"Starting \" + self.name)\n",
        "        print_time(self.name, 5, self.counter)\n",
        "        print( \"Exiting \" + self.name)"
      ],
      "execution_count": 3,
      "outputs": []
    },
    {
      "cell_type": "code",
      "metadata": {
        "id": "ba9wQPWyWbIS"
      },
      "source": [
        "def print_time(threadName, counter, delay):\n",
        "     while counter:\n",
        "        if exitFlag:\n",
        "            threadName.exit()\n",
        "            time.sleep(delay)\n",
        "            print(\"%s: %s\" % (threadName, time.ctime(time.time())))\n",
        "            counter -= 1"
      ],
      "execution_count": 4,
      "outputs": []
    },
    {
      "cell_type": "markdown",
      "metadata": {
        "id": "LFzSuE6kWfpD"
      },
      "source": [
        "2. Instantiate the subclass and trigger the thread.¶"
      ]
    },
    {
      "cell_type": "code",
      "metadata": {
        "id": "utdyI0IpWgGr"
      },
      "source": [
        "thread1 = myThread(1, \"Thread-1\", 1)\n",
        "thread2 = myThread(2, \"Thread-2\", 2)"
      ],
      "execution_count": 5,
      "outputs": []
    },
    {
      "cell_type": "code",
      "metadata": {
        "colab": {
          "base_uri": "https://localhost:8080/"
        },
        "id": "YLdgWRfxWj77",
        "outputId": "114b5eee-b216-4906-deac-80b6879fef84"
      },
      "source": [
        "thread1.start()\n",
        "thread2.start()\n",
        "\n",
        "print(\"Exiting Main Thread\")"
      ],
      "execution_count": 6,
      "outputs": [
        {
          "output_type": "stream",
          "text": [
            "Starting Thread-1\n",
            "Starting Thread-2\n",
            "Exiting Main Thread\n"
          ],
          "name": "stdout"
        }
      ]
    }
  ]
}