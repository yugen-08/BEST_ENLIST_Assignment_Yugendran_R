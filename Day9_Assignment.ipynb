{
  "nbformat": 4,
  "nbformat_minor": 0,
  "metadata": {
    "colab": {
      "name": "Day9_Assignment.ipynb",
      "provenance": []
    },
    "kernelspec": {
      "name": "python3",
      "display_name": "Python 3"
    },
    "language_info": {
      "name": "python"
    }
  },
  "cells": [
    {
      "cell_type": "markdown",
      "metadata": {
        "id": "_QNckyyq5pjH"
      },
      "source": [
        "**Day 9**\n",
        "\n",
        "Exercise\n"
      ]
    },
    {
      "cell_type": "markdown",
      "metadata": {
        "id": "DLvFEWK_52sm"
      },
      "source": [
        "1) Write a program to loop through a list of numbers and add +2 to every value to elements in list"
      ]
    },
    {
      "cell_type": "code",
      "metadata": {
        "colab": {
          "base_uri": "https://localhost:8080/"
        },
        "id": "gbkb0rxl58Ni",
        "outputId": "b079f19a-f074-4c01-a00d-fcf766cfb995"
      },
      "source": [
        "list1=[1,2,3,4,5,6,7,8,9,10]\n",
        "result=[]\n",
        "for i in list1:\n",
        "    result.append(i+2)\n",
        "print(result)"
      ],
      "execution_count": 1,
      "outputs": [
        {
          "output_type": "stream",
          "text": [
            "[3, 4, 5, 6, 7, 8, 9, 10, 11, 12]\n"
          ],
          "name": "stdout"
        }
      ]
    },
    {
      "cell_type": "markdown",
      "metadata": {
        "id": "4nU1pE3p6GXG"
      },
      "source": [
        "2)Write a program to get the below pattern"
      ]
    },
    {
      "cell_type": "markdown",
      "metadata": {
        "id": "f2ZfB6u56Pwv"
      },
      "source": [
        "54321\n",
        "4321\n",
        "321\n",
        "21\n",
        "1\n",
        "\n",
        "\n",
        "\n"
      ]
    },
    {
      "cell_type": "code",
      "metadata": {
        "colab": {
          "base_uri": "https://localhost:8080/"
        },
        "id": "3r7MDl3l6SmW",
        "outputId": "70ec505d-947c-4a3f-c196-96111556a5fc"
      },
      "source": [
        "for i in range(5,0,-1):\n",
        "    for j in range(i,0,-1):\n",
        "        print(j,end=' ')\n",
        "    print()"
      ],
      "execution_count": 3,
      "outputs": [
        {
          "output_type": "stream",
          "text": [
            "5 4 3 2 1 \n",
            "4 3 2 1 \n",
            "3 2 1 \n",
            "2 1 \n",
            "1 \n"
          ],
          "name": "stdout"
        }
      ]
    },
    {
      "cell_type": "markdown",
      "metadata": {
        "id": "gV95FWrI6dW-"
      },
      "source": [
        "3)Python Program to Print the Fibonacci sequence"
      ]
    },
    {
      "cell_type": "code",
      "metadata": {
        "id": "fqzi-Wx76fqW"
      },
      "source": [
        "def Fibonacci(n):\n",
        "   \n",
        "    if n < 0:\n",
        "        print(\"Incorrect input\")\n",
        " \n",
        "    elif n == 1 or n == 2:\n",
        "        return 1\n",
        " \n",
        "    else:\n",
        "        return Fibonacci(n-1) + Fibonacci(n-2)"
      ],
      "execution_count": 4,
      "outputs": []
    },
    {
      "cell_type": "code",
      "metadata": {
        "colab": {
          "base_uri": "https://localhost:8080/"
        },
        "id": "86X63CT86jLH",
        "outputId": "9e2abf8f-6680-451a-8981-bb2b190a5a77"
      },
      "source": [
        "print(Fibonacci(11))"
      ],
      "execution_count": 5,
      "outputs": [
        {
          "output_type": "stream",
          "text": [
            "89\n"
          ],
          "name": "stdout"
        }
      ]
    },
    {
      "cell_type": "code",
      "metadata": {
        "id": "2jdOEr1z6l7e"
      },
      "source": [
        "def fibo(n):\n",
        "    n1, n2 = 0, 1\n",
        "    count = 0\n",
        "    if n<0:\n",
        "        print(\"Incorrect Input\")\n",
        "    elif n == 1 or n == 2:\n",
        "        print('1')\n",
        "    else :\n",
        "         while count < n:\n",
        "                print(n1)\n",
        "                nth = n1 + n2\n",
        "                n1 = n2\n",
        "                n2 = nth\n",
        "                count += 1"
      ],
      "execution_count": 6,
      "outputs": []
    },
    {
      "cell_type": "code",
      "metadata": {
        "colab": {
          "base_uri": "https://localhost:8080/"
        },
        "id": "XecsUWll6oRY",
        "outputId": "8d8d9ebe-7b7e-495d-a85c-a8a93fab34c4"
      },
      "source": [
        "fibo(12)"
      ],
      "execution_count": 7,
      "outputs": [
        {
          "output_type": "stream",
          "text": [
            "0\n",
            "1\n",
            "1\n",
            "2\n",
            "3\n",
            "5\n",
            "8\n",
            "13\n",
            "21\n",
            "34\n",
            "55\n",
            "89\n"
          ],
          "name": "stdout"
        }
      ]
    },
    {
      "cell_type": "markdown",
      "metadata": {
        "id": "LCPZd12A6s0W"
      },
      "source": [
        "4) Explain Armstrong number and write a code with a function"
      ]
    },
    {
      "cell_type": "markdown",
      "metadata": {
        "id": "1RnmH4V36u3-"
      },
      "source": [
        "armstrong number the number whose digit cube is equal to the same number Example :153 1*1*1=1 5*5*5=125 3*3*3=27 1+125+27=153 this is the same input number"
      ]
    },
    {
      "cell_type": "code",
      "metadata": {
        "colab": {
          "base_uri": "https://localhost:8080/"
        },
        "id": "283GQHat6yIm",
        "outputId": "f5b80a6c-ef3f-4f3a-cdae-7e8b40e2dbd8"
      },
      "source": [
        "num = int(input(\"Enter a number: \"))\n",
        "sum1 = 0\n",
        "temp1 = num\n",
        "while temp1 > 0:\n",
        "    digit1 = temp1 % 10\n",
        "    sum1 += digit1**3\n",
        "    temp1 //= 10\n",
        "if num == sum1:\n",
        "    print(num,\"is an Armstrong number\")\n",
        "else:\n",
        "    print(num,\"is not an Armstrong number\")"
      ],
      "execution_count": 8,
      "outputs": [
        {
          "output_type": "stream",
          "text": [
            "Enter a number: 153\n",
            "153 is an Armstrong number\n"
          ],
          "name": "stdout"
        }
      ]
    },
    {
      "cell_type": "markdown",
      "metadata": {
        "id": "-4iC7R8R630P"
      },
      "source": [
        "5)Write a program to print the multiplication table of 9"
      ]
    },
    {
      "cell_type": "code",
      "metadata": {
        "colab": {
          "base_uri": "https://localhost:8080/"
        },
        "id": "UEwU3RDt66Bu",
        "outputId": "1f3e2b02-06f3-457d-954f-d0c84f88fc18"
      },
      "source": [
        "for i in range(1,11):\n",
        "    print(\"9 x \",i,' = ',i*9 )"
      ],
      "execution_count": 9,
      "outputs": [
        {
          "output_type": "stream",
          "text": [
            "9 x  1  =  9\n",
            "9 x  2  =  18\n",
            "9 x  3  =  27\n",
            "9 x  4  =  36\n",
            "9 x  5  =  45\n",
            "9 x  6  =  54\n",
            "9 x  7  =  63\n",
            "9 x  8  =  72\n",
            "9 x  9  =  81\n",
            "9 x  10  =  90\n"
          ],
          "name": "stdout"
        }
      ]
    },
    {
      "cell_type": "markdown",
      "metadata": {
        "id": "ruS6xVam699d"
      },
      "source": [
        "6)Check if a program is negative or positive"
      ]
    },
    {
      "cell_type": "code",
      "metadata": {
        "colab": {
          "base_uri": "https://localhost:8080/"
        },
        "id": "PHawmnvG7AZ1",
        "outputId": "d95c2ebf-f5dc-4ea9-fef3-ded444acb4c4"
      },
      "source": [
        "lid=[-1,2,-45,50,-90,87]\n",
        "for i in lid:\n",
        "    if i >=0:\n",
        "        print(i,\" is positive\")\n",
        "    else :\n",
        "        print(i,' is negative ')"
      ],
      "execution_count": 10,
      "outputs": [
        {
          "output_type": "stream",
          "text": [
            "-1  is negative \n",
            "2  is positive\n",
            "-45  is negative \n",
            "50  is positive\n",
            "-90  is negative \n",
            "87  is positive\n"
          ],
          "name": "stdout"
        }
      ]
    },
    {
      "cell_type": "markdown",
      "metadata": {
        "id": "jc9mHr027DTV"
      },
      "source": [
        "7)Write a program to convert the number of days to ages¶"
      ]
    },
    {
      "cell_type": "code",
      "metadata": {
        "id": "Jtqw64Eo7GTu"
      },
      "source": [
        "def find( number_of_days ):\n",
        "    year = int(number_of_days / 365)\n",
        "    print(year,'Years ago !')"
      ],
      "execution_count": 11,
      "outputs": []
    },
    {
      "cell_type": "code",
      "metadata": {
        "colab": {
          "base_uri": "https://localhost:8080/"
        },
        "id": "np2lcwl47I-s",
        "outputId": "0187640d-4e00-46d3-dbc8-a28516370748"
      },
      "source": [
        "no_days=675\n",
        "find(no_days)"
      ],
      "execution_count": 12,
      "outputs": [
        {
          "output_type": "stream",
          "text": [
            "1 Years ago !\n"
          ],
          "name": "stdout"
        }
      ]
    },
    {
      "cell_type": "code",
      "metadata": {
        "colab": {
          "base_uri": "https://localhost:8080/"
        },
        "id": "2tcLBAdX7Lj3",
        "outputId": "f222e72e-fc5a-4dc8-d78a-7ca2ac83385e"
      },
      "source": [
        "no_days=1675\n",
        "find(no_days)"
      ],
      "execution_count": 13,
      "outputs": [
        {
          "output_type": "stream",
          "text": [
            "4 Years ago !\n"
          ],
          "name": "stdout"
        }
      ]
    },
    {
      "cell_type": "markdown",
      "metadata": {
        "id": "DGBmUYiZ7OfI"
      },
      "source": [
        "8) Solve Trigonometry problem using math function write a program to solve using math function"
      ]
    },
    {
      "cell_type": "code",
      "metadata": {
        "id": "ihnc-D017QkI"
      },
      "source": [
        "import math\n",
        "def trigo(n,m):\n",
        "    if n=='sin':\n",
        "        return math.sin(m)\n",
        "    elif n=='cos':\n",
        "        return math.cos(m)\n",
        "    elif n=='cosin':\n",
        "        return math.cosine(m)\n",
        "    elif n=='tan':\n",
        "        return math.tan(m)\n",
        "    elif n=='sec':\n",
        "        return math.sec(m)\n",
        "    elif n=='cosec':\n",
        "        return math.cosec(m)"
      ],
      "execution_count": 14,
      "outputs": []
    },
    {
      "cell_type": "code",
      "metadata": {
        "colab": {
          "base_uri": "https://localhost:8080/"
        },
        "id": "4XRCTDgD7UIw",
        "outputId": "53dd2a5d-f0ea-40f9-b29f-b66f7078922d"
      },
      "source": [
        "trigo('sin',90)"
      ],
      "execution_count": 15,
      "outputs": [
        {
          "output_type": "execute_result",
          "data": {
            "text/plain": [
              "0.8939966636005579"
            ]
          },
          "metadata": {
            "tags": []
          },
          "execution_count": 15
        }
      ]
    },
    {
      "cell_type": "code",
      "metadata": {
        "colab": {
          "base_uri": "https://localhost:8080/"
        },
        "id": "iIpaF0wZ7WV3",
        "outputId": "7f34286e-5979-4dab-a126-6060d6a39d48"
      },
      "source": [
        "trigo('cos',180)"
      ],
      "execution_count": 16,
      "outputs": [
        {
          "output_type": "execute_result",
          "data": {
            "text/plain": [
              "-0.5984600690578581"
            ]
          },
          "metadata": {
            "tags": []
          },
          "execution_count": 16
        }
      ]
    },
    {
      "cell_type": "code",
      "metadata": {
        "colab": {
          "base_uri": "https://localhost:8080/"
        },
        "id": "aPkjsgPh7YRH",
        "outputId": "a5861803-619e-4d33-c777-7156ba7a321f"
      },
      "source": [
        "trigo('tan',45)"
      ],
      "execution_count": 17,
      "outputs": [
        {
          "output_type": "execute_result",
          "data": {
            "text/plain": [
              "1.6197751905438615"
            ]
          },
          "metadata": {
            "tags": []
          },
          "execution_count": 17
        }
      ]
    },
    {
      "cell_type": "markdown",
      "metadata": {
        "id": "YKdr-T9q7ae3"
      },
      "source": [
        "9) create a basic calculator using if condition only"
      ]
    },
    {
      "cell_type": "code",
      "metadata": {
        "id": "2KZl4cOB7ctY"
      },
      "source": [
        "def calculate():\n",
        "    print('+')\n",
        "    print('-')\n",
        "    print('*')\n",
        "    print('/')\n",
        "    print('%')\n",
        "    print('**')\n",
        "    operation = input(\"Select an operator:n\")\n",
        "    print(\"Enter two numbers\")\n",
        "    number_1 = int(input())\n",
        "    number_2 = int(input())\n",
        "\n",
        "    if operation == '+': # To add two numbers\n",
        "        print(number_1 + number_2)\n",
        "    elif operation == '-': # To subtract two numbers\n",
        "        print(number_1 - number_2)\n",
        "    elif operation == '*': # To multiply two numbers\n",
        "        print(number_1 * number_2)\n",
        "    elif operation == '/': # To divide two numbers\n",
        "        print(number_1 / number_2)\n",
        "    elif operation == '%': # To remainder two numbers\n",
        "        print(number_1 % number_2)\n",
        "    elif operation == '**': # To num1 exponent num2\n",
        "        print(number_1 ** number_2)\n",
        "    else:\n",
        "        print('Invalid Input')"
      ],
      "execution_count": 18,
      "outputs": []
    },
    {
      "cell_type": "code",
      "metadata": {
        "colab": {
          "base_uri": "https://localhost:8080/"
        },
        "id": "_Fi23Kz67gQZ",
        "outputId": "10bd1235-87b7-418e-c7ee-2d18507db143"
      },
      "source": [
        "calculate()"
      ],
      "execution_count": 19,
      "outputs": [
        {
          "output_type": "stream",
          "text": [
            "+\n",
            "-\n",
            "*\n",
            "/\n",
            "%\n",
            "**\n",
            "Select an operator:n**\n",
            "Enter two numbers\n",
            "3\n",
            "4\n",
            "81\n"
          ],
          "name": "stdout"
        }
      ]
    },
    {
      "cell_type": "code",
      "metadata": {
        "colab": {
          "base_uri": "https://localhost:8080/"
        },
        "id": "xMukwuOO7ooU",
        "outputId": "18724019-05e0-4a51-ea7f-5aa4cebb9057"
      },
      "source": [
        "calculate()\n"
      ],
      "execution_count": 20,
      "outputs": [
        {
          "output_type": "stream",
          "text": [
            "+\n",
            "-\n",
            "*\n",
            "/\n",
            "%\n",
            "**\n",
            "Select an operator:n^\n",
            "Enter two numbers\n",
            "4\n",
            "6\n",
            "Invalid Input\n"
          ],
          "name": "stdout"
        }
      ]
    }
  ]
}