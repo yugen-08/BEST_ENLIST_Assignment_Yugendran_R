{
  "nbformat": 4,
  "nbformat_minor": 0,
  "metadata": {
    "colab": {
      "name": "Day14_Assignment.ipynb",
      "provenance": []
    },
    "kernelspec": {
      "name": "python3",
      "display_name": "Python 3"
    },
    "language_info": {
      "name": "python"
    }
  },
  "cells": [
    {
      "cell_type": "code",
      "metadata": {
        "colab": {
          "base_uri": "https://localhost:8080/"
        },
        "id": "lV8PKEldssJH",
        "outputId": "66d510a1-4c3c-4a31-e4fa-b94d2a137249"
      },
      "source": [
        "try:\n",
        "    print(x)\n",
        "\n",
        "except NameError :\n",
        "    print(\"Name error\")\n",
        "\n",
        "#Calculator\n",
        "a=int(input(\"Enter 1st Number \"))\n",
        "b=int(input(\"Enter 2nd number \"))\n",
        "\n",
        "c=input(\"Enter operation \")\n",
        "try:\n",
        "    if(c=='+'):\n",
        "        print(a+b)\n",
        "    elif(c=='-'):\n",
        "        print(a-b)\n",
        "    elif(c=='*'):\n",
        "        print(a*b)\n",
        "    elif(c=='/'):\n",
        "        print(a/b)\n",
        "except:\n",
        "    print(\"Wrong sign\")\n",
        "finally:\n",
        "    print(\"Thank you for using our calculator \")\n",
        "\n",
        "#Q3\n",
        "try:\n",
        "    print\n",
        "except NameError:\n",
        "    print(\"Name error\")\n",
        "else:\n",
        "    print(\"Other type of error\")\n",
        "print()\n",
        "\n",
        "print(\" Q4 : try catch is needed only if expected error is small and does not affect the program, in case of fatal errors try catch block is not recommended\")\n",
        "print()\n",
        "\n",
        "#Q5\n",
        "try:\n",
        "    n=int(input(\"Enter a number\"))\n",
        "    print(n)\n",
        "except:\n",
        "    print(\"Sorry sir\")\n"
      ],
      "execution_count": 1,
      "outputs": [
        {
          "output_type": "stream",
          "text": [
            "Name error\n",
            "Enter 1st Number 5\n",
            "Enter 2nd number 7\n",
            "Enter operation +\n",
            "12\n",
            "Thank you for using our calculator \n",
            "Other type of error\n",
            "\n",
            " Q4 : try catch is needed only if expected error is small and does not affect the program, in case of fatal errors try catch block is not recommended\n",
            "\n",
            "Enter a number5\n",
            "5\n"
          ],
          "name": "stdout"
        }
      ]
    }
  ]
}