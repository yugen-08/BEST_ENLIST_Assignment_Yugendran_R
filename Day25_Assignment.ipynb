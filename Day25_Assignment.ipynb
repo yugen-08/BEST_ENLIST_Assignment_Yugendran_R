{
  "nbformat": 4,
  "nbformat_minor": 0,
  "metadata": {
    "colab": {
      "name": "Day25_Assignment.ipynb",
      "provenance": []
    },
    "kernelspec": {
      "name": "python3",
      "display_name": "Python 3"
    },
    "language_info": {
      "name": "python"
    }
  },
  "cells": [
    {
      "cell_type": "markdown",
      "metadata": {
        "id": "GIgDaLrRgPe6"
      },
      "source": [
        "Day 25\n",
        "---------------------------------------------------------------------------------------------------------\n",
        "Date and Time in Python"
      ]
    },
    {
      "cell_type": "markdown",
      "metadata": {
        "id": "V9wYrIUrgSAc"
      },
      "source": [
        "1. Write a Python program to convert a string to datetime"
      ]
    },
    {
      "cell_type": "code",
      "metadata": {
        "id": "J2Xscao2gUSN"
      },
      "source": [
        "import datetime"
      ],
      "execution_count": 1,
      "outputs": []
    },
    {
      "cell_type": "code",
      "metadata": {
        "id": "lAj7ZZqEgZdD"
      },
      "source": [
        "def convert(date_time):\n",
        "    format = '%b %d %Y %I:%M%p' # The format\n",
        "    datetime_str = datetime.datetime.strptime(date_time, format)\n",
        "    return datetime_str"
      ],
      "execution_count": 2,
      "outputs": []
    },
    {
      "cell_type": "code",
      "metadata": {
        "colab": {
          "base_uri": "https://localhost:8080/"
        },
        "id": "YIOFASYNgeVI",
        "outputId": "0b769f6d-c1bd-47d6-82a0-3123ca1300dd"
      },
      "source": [
        "date_time = 'Apr 20 2021 08:14AM'\n",
        "print(convert(date_time))"
      ],
      "execution_count": 3,
      "outputs": [
        {
          "output_type": "stream",
          "text": [
            "2021-04-20 08:14:00\n"
          ],
          "name": "stdout"
        }
      ]
    },
    {
      "cell_type": "markdown",
      "metadata": {
        "id": "xfmtN2Wygr4C"
      },
      "source": [
        "2. Write a Python program to subtract five days (last working day) from current date"
      ]
    },
    {
      "cell_type": "code",
      "metadata": {
        "colab": {
          "base_uri": "https://localhost:8080/"
        },
        "id": "Vn2IYuEvguxc",
        "outputId": "f06027b4-ab89-43bc-ad4e-3ce7f5a430de"
      },
      "source": [
        "from datetime import date, timedelta\n",
        "delta = date.today() - timedelta(5)\n",
        "print('Current Date :',date.today())\n",
        "print('5 days before Current Date  is :',delta)"
      ],
      "execution_count": 4,
      "outputs": [
        {
          "output_type": "stream",
          "text": [
            "Current Date : 2021-07-09\n",
            "5 days before Current Date  is : 2021-07-04\n"
          ],
          "name": "stdout"
        }
      ]
    },
    {
      "cell_type": "markdown",
      "metadata": {
        "id": "xHPzdZRAgylN"
      },
      "source": [
        "3. Write a Python program to convert the date to datetime using a function"
      ]
    },
    {
      "cell_type": "code",
      "metadata": {
        "colab": {
          "base_uri": "https://localhost:8080/"
        },
        "id": "09kk1Mj1g03H",
        "outputId": "5628c851-c7c5-4620-861c-b6b588bd81d9"
      },
      "source": [
        "from datetime import datetime\n",
        "dt = date.today()\n",
        "print(datetime.combine(dt, datetime.min.time()))"
      ],
      "execution_count": 5,
      "outputs": [
        {
          "output_type": "stream",
          "text": [
            "2021-07-09 00:00:00\n"
          ],
          "name": "stdout"
        }
      ]
    },
    {
      "cell_type": "markdown",
      "metadata": {
        "id": "Nxl0W2jWg54j"
      },
      "source": [
        "4. Write a Python program to print next 7 days (week) starting from today\n"
      ]
    },
    {
      "cell_type": "code",
      "metadata": {
        "colab": {
          "base_uri": "https://localhost:8080/"
        },
        "id": "oEkdx1dRg7_4",
        "outputId": "0ecc77bd-75f0-4fa8-fb94-91f243b923e8"
      },
      "source": [
        "import datetime\n",
        "base = datetime.datetime.today()\n",
        "for x in range(0, 7):\n",
        "    print(base + datetime.timedelta(days=x))"
      ],
      "execution_count": 6,
      "outputs": [
        {
          "output_type": "stream",
          "text": [
            "2021-07-09 13:44:57.662183\n",
            "2021-07-10 13:44:57.662183\n",
            "2021-07-11 13:44:57.662183\n",
            "2021-07-12 13:44:57.662183\n",
            "2021-07-13 13:44:57.662183\n",
            "2021-07-14 13:44:57.662183\n",
            "2021-07-15 13:44:57.662183\n"
          ],
          "name": "stdout"
        }
      ]
    }
  ]
}