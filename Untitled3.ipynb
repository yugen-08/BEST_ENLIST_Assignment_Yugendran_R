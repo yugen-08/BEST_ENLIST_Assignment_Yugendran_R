{
  "nbformat": 4,
  "nbformat_minor": 0,
  "metadata": {
    "colab": {
      "name": "Untitled3.ipynb",
      "provenance": []
    },
    "kernelspec": {
      "name": "python3",
      "display_name": "Python 3"
    },
    "language_info": {
      "name": "python"
    }
  },
  "cells": [
    {
      "cell_type": "markdown",
      "metadata": {
        "id": "ZslQC0liZfQz"
      },
      "source": [
        "**Day 7**"
      ]
    },
    {
      "cell_type": "markdown",
      "metadata": {
        "id": "o2GvCEOOZikk"
      },
      "source": [
        "**Functions**"
      ]
    },
    {
      "cell_type": "markdown",
      "metadata": {
        "id": "48-YNhYSZl70"
      },
      "source": [
        "1. Create a function getting two integer inputs from user.& print the following:\n",
        "Addition of two numbers is +value\n",
        "Subtraction of two numbers is +value\n",
        "Division of two numbers is +value\n",
        "Multiplication of two numbers is +value\n",
        "Here the value represents math function associated"
      ]
    },
    {
      "cell_type": "code",
      "metadata": {
        "colab": {
          "base_uri": "https://localhost:8080/"
        },
        "id": "ODmo2yftZqsn",
        "outputId": "3e692956-92e7-4a98-9350-5254586db010"
      },
      "source": [
        "a= int(input(\"Enter the first value :\"))\n",
        "b=int(input(\"Enter the second value: \"))\n",
        "sign1=input(\"Enter '+' for addition , '-' for Subration ,'*' for multiplication, '/ for division'\")"
      ],
      "execution_count": 1,
      "outputs": [
        {
          "output_type": "stream",
          "text": [
            "Enter the first value :20\n",
            "Enter the second value: 10\n",
            "Enter '+' for addition , '-' for Subration ,'*' for multiplication, '/ for division'+\n"
          ],
          "name": "stdout"
        }
      ]
    },
    {
      "cell_type": "code",
      "metadata": {
        "id": "u2T7H3AVaE1u"
      },
      "source": [
        "def math_function(a,b,sign):\n",
        "    if sign == '+':\n",
        "        print(\"Addition of a and b is \",str(a+b))\n",
        "    elif sign == '-':\n",
        "        print(\"Subraction of a and b is \",str(a-b))\n",
        "    elif sign == '*':\n",
        "        print(\"Multiplication of a and b is \",str(a*b))\n",
        "    elif sign == '/':\n",
        "        print(\"Division of a and b is \",str(a/b))"
      ],
      "execution_count": 2,
      "outputs": []
    },
    {
      "cell_type": "code",
      "metadata": {
        "colab": {
          "base_uri": "https://localhost:8080/"
        },
        "id": "uOmpg6ytaI9M",
        "outputId": "b8d2c07f-12b4-44b4-d606-cc7583b40434"
      },
      "source": [
        "math_function(a,b,sign1)"
      ],
      "execution_count": 3,
      "outputs": [
        {
          "output_type": "stream",
          "text": [
            "Addition of a and b is  30\n"
          ],
          "name": "stdout"
        }
      ]
    },
    {
      "cell_type": "code",
      "metadata": {
        "colab": {
          "base_uri": "https://localhost:8080/"
        },
        "id": "7-nThF2FaN2i",
        "outputId": "f93ff883-4aef-42fd-c783-abb34f2a93ca"
      },
      "source": [
        "a= int(input(\"Enter the first value :\"))\n",
        "b=int(input(\"Enter the second value: \"))\n",
        "sign1=input(\"Enter '+' for addition , '-' for Subration ,'*' for multiplication, '/ for division'\")  \n",
        "math_function(a,b,sign1)"
      ],
      "execution_count": 4,
      "outputs": [
        {
          "output_type": "stream",
          "text": [
            "Enter the first value :23\n",
            "Enter the second value: 46\n",
            "Enter '+' for addition , '-' for Subration ,'*' for multiplication, '/ for division'*\n",
            "Multiplication of a and b is  1058\n"
          ],
          "name": "stdout"
        }
      ]
    },
    {
      "cell_type": "code",
      "metadata": {
        "colab": {
          "base_uri": "https://localhost:8080/"
        },
        "id": "LoBMf5vRahtT",
        "outputId": "32e545df-ed8e-4762-c6a1-6992175da081"
      },
      "source": [
        "a= int(input(\"Enter the first value :\"))\n",
        "b=int(input(\"Enter the second value: \"))\n",
        "sign1=input(\"Enter '+' for addition , '-' for Subration ,'*' for multiplication, '/ for division'\")  \n",
        "math_function(a,b,sign1)"
      ],
      "execution_count": 5,
      "outputs": [
        {
          "output_type": "stream",
          "text": [
            "Enter the first value :60\n",
            "Enter the second value: 3\n",
            "Enter '+' for addition , '-' for Subration ,'*' for multiplication, '/ for division'/\n",
            "Division of a and b is  20.0\n"
          ],
          "name": "stdout"
        }
      ]
    },
    {
      "cell_type": "markdown",
      "metadata": {
        "id": "_1OT0GS4aqFk"
      },
      "source": [
        "2.Create a function covid( )& it should accept patient name, and body temperature, by default the body temperature should be 98 degree"
      ]
    },
    {
      "cell_type": "code",
      "metadata": {
        "id": "NugZQZS_arJV"
      },
      "source": [
        "def covid(name,temp):\n",
        "    print(\"Name of patient is\",name)\n",
        "    if temp == '':\n",
        "        print(\"Body Temprature  :98\")\n",
        "    else:\n",
        "        print(\"Body Temprature  :\",temp)"
      ],
      "execution_count": 6,
      "outputs": []
    },
    {
      "cell_type": "code",
      "metadata": {
        "colab": {
          "base_uri": "https://localhost:8080/"
        },
        "id": "GYaPWHM0aw6k",
        "outputId": "4a7ce529-e6db-4a4d-9a2f-b455c9aeaeea"
      },
      "source": [
        "name=input(\"Enter the patient name :\")\n",
        "temp=input(\"enter body temperature \")\n",
        "covid(name,temp)"
      ],
      "execution_count": 9,
      "outputs": [
        {
          "output_type": "stream",
          "text": [
            "Enter the patient name :Hari\n",
            "enter body temperature 99.2\n",
            "Name of patient is Hari\n",
            "Body Temprature  : 99.2\n"
          ],
          "name": "stdout"
        }
      ]
    },
    {
      "cell_type": "code",
      "metadata": {
        "colab": {
          "base_uri": "https://localhost:8080/"
        },
        "id": "upajP0YbbAoy",
        "outputId": "e022afc7-44a7-4685-c119-88197a57d5f9"
      },
      "source": [
        "name=input(\"Enter the patient name :\")\n",
        "temp=input(\"enter body temperature \")\n",
        "covid(name,temp)"
      ],
      "execution_count": 10,
      "outputs": [
        {
          "output_type": "stream",
          "text": [
            "Enter the patient name :Vino\n",
            "enter body temperature \n",
            "Name of patient is Vino\n",
            "Body Temprature  :98\n"
          ],
          "name": "stdout"
        }
      ]
    }
  ]
}