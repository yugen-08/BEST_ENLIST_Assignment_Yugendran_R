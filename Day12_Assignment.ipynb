{
  "nbformat": 4,
  "nbformat_minor": 0,
  "metadata": {
    "colab": {
      "name": "Day12_Assignment.ipynb",
      "provenance": []
    },
    "kernelspec": {
      "name": "python3",
      "display_name": "Python 3"
    },
    "language_info": {
      "name": "python"
    }
  },
  "cells": [
    {
      "cell_type": "markdown",
      "metadata": {
        "id": "tvtW86bxurse"
      },
      "source": [
        "Day 12\n",
        "------------------------------------------------------------------------------------------------------------\n",
        "File Operations"
      ]
    },
    {
      "cell_type": "markdown",
      "metadata": {
        "id": "nOs-aGLUutik"
      },
      "source": [
        " Creating and writing in a File"
      ]
    },
    {
      "cell_type": "code",
      "metadata": {
        "id": "mk5j2XCMuzDk"
      },
      "source": [
        "f =open(r\"30_days_30_hour_operations.txt\",\"w+\")"
      ],
      "execution_count": 1,
      "outputs": []
    },
    {
      "cell_type": "code",
      "metadata": {
        "colab": {
          "base_uri": "https://localhost:8080/"
        },
        "id": "RJYPmPovvAOt",
        "outputId": "ef12a6ea-f9ce-4d90-f5a3-7b0b0bf72e8e"
      },
      "source": [
        "f.write(\"I have completed 10 days successfully\")"
      ],
      "execution_count": 2,
      "outputs": [
        {
          "output_type": "execute_result",
          "data": {
            "text/plain": [
              "37"
            ]
          },
          "metadata": {
            "tags": []
          },
          "execution_count": 2
        }
      ]
    },
    {
      "cell_type": "code",
      "metadata": {
        "id": "iQZFAHnDvD1E"
      },
      "source": [
        "f.close()"
      ],
      "execution_count": 3,
      "outputs": []
    },
    {
      "cell_type": "markdown",
      "metadata": {
        "id": "eCGz2qbdvGAm"
      },
      "source": [
        "Appending in a created file"
      ]
    },
    {
      "cell_type": "code",
      "metadata": {
        "id": "UGeW1Y54vIlE"
      },
      "source": [
        "f1 =open(r\"30_days_30_hour_operations.txt\",\"a+\") \n",
        "f1.writelines(\"Yugendran R\")"
      ],
      "execution_count": 4,
      "outputs": []
    },
    {
      "cell_type": "markdown",
      "metadata": {
        "id": "y_buggZcvPVk"
      },
      "source": [
        "Reading the content in a file"
      ]
    },
    {
      "cell_type": "code",
      "metadata": {
        "colab": {
          "base_uri": "https://localhost:8080/"
        },
        "id": "E-nJCeYhvR50",
        "outputId": "406c3e0d-d4c7-4e08-d819-3057c447c7a6"
      },
      "source": [
        "f1 =open(r\"30_days_30_hour_operations.txt\",\"r\") \n",
        "print(f1.read())"
      ],
      "execution_count": 5,
      "outputs": [
        {
          "output_type": "stream",
          "text": [
            "I have completed 10 days successfullyYugendran R\n"
          ],
          "name": "stdout"
        }
      ]
    },
    {
      "cell_type": "markdown",
      "metadata": {
        "id": "0xVzB8MTvUvu"
      },
      "source": [
        "Closing the file object"
      ]
    },
    {
      "cell_type": "code",
      "metadata": {
        "id": "prZY-1ndvWo1"
      },
      "source": [
        "f1.close()"
      ],
      "execution_count": 6,
      "outputs": []
    }
  ]
}