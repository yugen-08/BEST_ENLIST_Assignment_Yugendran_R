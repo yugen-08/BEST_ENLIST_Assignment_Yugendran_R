{
  "nbformat": 4,
  "nbformat_minor": 0,
  "metadata": {
    "colab": {
      "name": "Day10_Assignment.ipynb",
      "provenance": []
    },
    "kernelspec": {
      "name": "python3",
      "display_name": "Python 3"
    },
    "language_info": {
      "name": "python"
    }
  },
  "cells": [
    {
      "cell_type": "markdown",
      "metadata": {
        "id": "tI5Rydwofmdv"
      },
      "source": [
        "DAY 10\n",
        "--------------------------------------------------------------------------------\n",
        "INHERITANCE"
      ]
    },
    {
      "cell_type": "markdown",
      "metadata": {
        "id": "LTg_JDVWftV3"
      },
      "source": [
        "Create a real time scenario for inheritance example Banking concept"
      ]
    },
    {
      "cell_type": "code",
      "metadata": {
        "id": "CyCTWiDUfuFC"
      },
      "source": [
        "class Bank_Account:\n",
        "    def __init__(self):\n",
        "        self.balance=0\n",
        "        print(\"Hello!!! Welcome to the Deposit & Withdrawal Machine\")\n",
        "    def display(self):\n",
        "        print(\"\\n Net Available Balance=\",self.balance)"
      ],
      "execution_count": 1,
      "outputs": []
    },
    {
      "cell_type": "code",
      "metadata": {
        "id": "2bFm-tMcf0sI"
      },
      "source": [
        "class Deposit(Bank_Account):  #inheritance\n",
        "    def deposit(self):\n",
        "        amount=float(input(\"Enter amount to be Deposited: \"))\n",
        "        self.balance += amount\n",
        "        print(\"\\n Amount Deposited:\",amount)"
      ],
      "execution_count": 2,
      "outputs": []
    },
    {
      "cell_type": "code",
      "metadata": {
        "id": "or_GcjnGf3mG"
      },
      "source": [
        "class Withdraw(Bank_Account):  #mutiple inheritance\n",
        "    def withdraw(self):\n",
        "        amount = float(input(\"Enter amount to be Withdrawn: \"))\n",
        "        if self.balance>=amount:\n",
        "            self.balance-=amount\n",
        "            print(\"\\n You Withdrew:\", amount)\n",
        "        else:\n",
        "            print(\"\\n Insufficient balance  \")"
      ],
      "execution_count": 3,
      "outputs": []
    },
    {
      "cell_type": "code",
      "metadata": {
        "colab": {
          "base_uri": "https://localhost:8080/"
        },
        "id": "gGG2JonRf61N",
        "outputId": "8e67de67-92c3-4693-9ab0-a29064350d6f"
      },
      "source": [
        "s = Bank_Account()"
      ],
      "execution_count": 4,
      "outputs": [
        {
          "output_type": "stream",
          "text": [
            "Hello!!! Welcome to the Deposit & Withdrawal Machine\n"
          ],
          "name": "stdout"
        }
      ]
    },
    {
      "cell_type": "code",
      "metadata": {
        "colab": {
          "base_uri": "https://localhost:8080/"
        },
        "id": "4PgcuSQ8f-bp",
        "outputId": "11bc04dd-6bb5-4759-f69f-dd18f94f4a6b"
      },
      "source": [
        "p=Deposit()\n",
        "p.deposit()"
      ],
      "execution_count": 5,
      "outputs": [
        {
          "output_type": "stream",
          "text": [
            "Hello!!! Welcome to the Deposit & Withdrawal Machine\n",
            "Enter amount to be Deposited: 0\n",
            "\n",
            " Amount Deposited: 0.0\n"
          ],
          "name": "stdout"
        }
      ]
    },
    {
      "cell_type": "code",
      "metadata": {
        "colab": {
          "base_uri": "https://localhost:8080/"
        },
        "id": "SBg31j6fgE-k",
        "outputId": "f5384384-a491-4606-d94e-3bfcab11a054"
      },
      "source": [
        "q=Withdraw()\n",
        "q.withdraw()\n",
        "s.display()"
      ],
      "execution_count": 6,
      "outputs": [
        {
          "output_type": "stream",
          "text": [
            "Hello!!! Welcome to the Deposit & Withdrawal Machine\n",
            "Enter amount to be Withdrawn: 700\n",
            "\n",
            " Insufficient balance  \n",
            "\n",
            " Net Available Balance= 0\n"
          ],
          "name": "stdout"
        }
      ]
    }
  ]
}