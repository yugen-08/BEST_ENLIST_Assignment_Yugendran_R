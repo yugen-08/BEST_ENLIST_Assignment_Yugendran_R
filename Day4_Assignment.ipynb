{
  "nbformat": 4,
  "nbformat_minor": 0,
  "metadata": {
    "colab": {
      "name": "Day4_Assignment.ipynb",
      "provenance": []
    },
    "kernelspec": {
      "name": "python3",
      "display_name": "Python 3"
    },
    "language_info": {
      "name": "python"
    }
  },
  "cells": [
    {
      "cell_type": "markdown",
      "metadata": {
        "id": "ip-emM5eyRlQ"
      },
      "source": [
        "DAY - 4 - Assignment"
      ]
    },
    {
      "cell_type": "markdown",
      "metadata": {
        "id": "ns2XESgnyhvb"
      },
      "source": [
        "**Python - Variables & Data types**\n",
        "\n",
        "1)Create three variables (a,b,c) to same value of any integer & do the following\n",
        "a) Divide a by 10 \n",
        "b) Multiply b by 50 \n",
        "c) Add c value by 60"
      ]
    },
    {
      "cell_type": "code",
      "metadata": {
        "colab": {
          "base_uri": "https://localhost:8080/"
        },
        "id": "qeYVoTmBytmC",
        "outputId": "77847521-1b5b-45fb-f2ca-bb59598eb9c5"
      },
      "source": [
        "a=b=c=100\n",
        "print(\"values of a =\",a,\"b=\",b,\"and c=\",c)\n",
        "# a divide a by 10\n",
        "print(\"Divide a by 10 :\",a/10)\n",
        "# b multiply b by 50\n",
        "print(\"Multiply b by 50\",b*50)\n",
        "# c Add c value by 60\n",
        "print(\"Add c value by 60\" ,c+60)"
      ],
      "execution_count": 1,
      "outputs": [
        {
          "output_type": "stream",
          "text": [
            "values of a = 100 b= 100 and c= 100\n",
            "Divide a by 10 : 10.0\n",
            "Multiply b by 50 5000\n",
            "Add c value by 60 160\n"
          ],
          "name": "stdout"
        }
      ]
    },
    {
      "cell_type": "markdown",
      "metadata": {
        "id": "9YFDOuF_zKTZ"
      },
      "source": [
        "2)Create a String variable of 5 characters and replace the 3rd character with G"
      ]
    },
    {
      "cell_type": "code",
      "metadata": {
        "colab": {
          "base_uri": "https://localhost:8080/"
        },
        "id": "wP0cuQ0VzOla",
        "outputId": "9cf5d52a-3de4-45bd-af65-dab1968707d9"
      },
      "source": [
        "string_var=\"abcde\"\n",
        "print(string_var)\n",
        "print(\"after replacing G in string\", string_var.replace(\"c\",\"G\"))"
      ],
      "execution_count": 3,
      "outputs": [
        {
          "output_type": "stream",
          "text": [
            "abcde\n",
            "after replacing G in string abGde\n"
          ],
          "name": "stdout"
        }
      ]
    },
    {
      "cell_type": "code",
      "metadata": {
        "colab": {
          "base_uri": "https://localhost:8080/"
        },
        "id": "h1o3x9lXzf_8",
        "outputId": "d6427c81-db95-4ccf-f05d-0596da319219"
      },
      "source": [
        "print(string_var)\n",
        "print(\"after replacing G in string\", string_var[:2]+'G'+string_var[3:])"
      ],
      "execution_count": 4,
      "outputs": [
        {
          "output_type": "stream",
          "text": [
            "abcde\n",
            "after replacing G in string abGde\n"
          ],
          "name": "stdout"
        }
      ]
    },
    {
      "cell_type": "code",
      "metadata": {
        "colab": {
          "base_uri": "https://localhost:8080/"
        },
        "id": "HbyrgcRkzmVM",
        "outputId": "39ea8e01-0d2f-4504-b76e-f4a319f3c6a1"
      },
      "source": [
        "import re\n",
        "print(string_var)\n",
        "string_var=re.sub(\"c\",\"G\",string_var)\n",
        "print(\"after replacing G in string\",string_var )"
      ],
      "execution_count": 5,
      "outputs": [
        {
          "output_type": "stream",
          "text": [
            "abcde\n",
            "after replacing G in string abGde\n"
          ],
          "name": "stdout"
        }
      ]
    },
    {
      "cell_type": "code",
      "metadata": {
        "colab": {
          "base_uri": "https://localhost:8080/"
        },
        "id": "qulvam7RzqL-",
        "outputId": "fad01873-ae31-4bf2-c3aa-1c970e79b190"
      },
      "source": [
        "string_var=\"abcde\"\n",
        "print(string_var)\n",
        "trans=string_var.maketrans(\"c\",\"G\")\n",
        "string_var=string_var.translate(trans)\n",
        "print(\"after replacing G in string\",string_var )"
      ],
      "execution_count": 6,
      "outputs": [
        {
          "output_type": "stream",
          "text": [
            "abcde\n",
            "after replacing G in string abGde\n"
          ],
          "name": "stdout"
        }
      ]
    },
    {
      "cell_type": "markdown",
      "metadata": {
        "id": "Iw__ntMCzvIn"
      },
      "source": [
        "3)Create two values (a,b) of int,float data type & convert the vise versa, Hint : convert a from int to float datatype & b from float to int datatype"
      ]
    },
    {
      "cell_type": "code",
      "metadata": {
        "colab": {
          "base_uri": "https://localhost:8080/"
        },
        "id": "rfU_sgGHzxAc",
        "outputId": "60621836-a47c-47d5-819d-22989ced0012"
      },
      "source": [
        "a=5\n",
        "b=5.5\n",
        "print(\"a=\",a)\n",
        "print(\"After typecasting a to float =\",float(a))\n",
        "print(\"b=\",b)\n",
        "print(\"After typecasting a to int =\",int(b))"
      ],
      "execution_count": 8,
      "outputs": [
        {
          "output_type": "stream",
          "text": [
            "a= 5\n",
            "After typecasting a to float = 5.0\n",
            "b= 5.5\n",
            "After typecasting a to int = 5\n"
          ],
          "name": "stdout"
        }
      ]
    }
  ]
}