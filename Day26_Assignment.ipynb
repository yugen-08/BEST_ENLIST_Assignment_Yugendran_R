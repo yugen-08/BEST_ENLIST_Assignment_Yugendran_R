{
  "nbformat": 4,
  "nbformat_minor": 0,
  "metadata": {
    "colab": {
      "name": "Day26_Assignment.ipynb",
      "provenance": []
    },
    "kernelspec": {
      "name": "python3",
      "display_name": "Python 3"
    },
    "language_info": {
      "name": "python"
    }
  },
  "cells": [
    {
      "cell_type": "markdown",
      "metadata": {
        "id": "WAPb8jkmCX_z"
      },
      "source": [
        "Day 26\n",
        "---------------------------------------------------------------------------------------------------------\n",
        "Python Enumerate "
      ]
    },
    {
      "cell_type": "markdown",
      "metadata": {
        "id": "IZWHwMiZCYe4"
      },
      "source": [
        "**• Enumerate a python list and try to print the counter with the list value**"
      ]
    },
    {
      "cell_type": "code",
      "metadata": {
        "colab": {
          "base_uri": "https://localhost:8080/"
        },
        "id": "qVo3lIS0CbnV",
        "outputId": "3e1d0b3a-f420-40b1-a2e1-36d7d38ad315"
      },
      "source": [
        "list1= ['Ram','Surya','Akash','Dev','Charles']\n",
        "print(list(enumerate(list1)))"
      ],
      "execution_count": 1,
      "outputs": [
        {
          "output_type": "stream",
          "text": [
            "[(0, 'Ram'), (1, 'Surya'), (2, 'Akash'), (3, 'Dev'), (4, 'Charles')]\n"
          ],
          "name": "stdout"
        }
      ]
    },
    {
      "cell_type": "code",
      "metadata": {
        "colab": {
          "base_uri": "https://localhost:8080/"
        },
        "id": "_0MbSKjqCz0R",
        "outputId": "b2fc6fba-2978-4fbf-9008-ac9e30bc0ab4"
      },
      "source": [
        "print(enumerate(list1))"
      ],
      "execution_count": 2,
      "outputs": [
        {
          "output_type": "stream",
          "text": [
            "<enumerate object at 0x7fe128f0faf0>\n"
          ],
          "name": "stdout"
        }
      ]
    },
    {
      "cell_type": "markdown",
      "metadata": {
        "id": "AUZb_FWPC4jH"
      },
      "source": [
        "**• Enumerate a python tuple and try to print the counter with the tuple value**"
      ]
    },
    {
      "cell_type": "markdown",
      "metadata": {
        "id": "LeZHbyZvDKTU"
      },
      "source": [
        ""
      ]
    },
    {
      "cell_type": "code",
      "metadata": {
        "colab": {
          "base_uri": "https://localhost:8080/"
        },
        "id": "6FRThLbCC5lt",
        "outputId": "02fe76d1-3391-4ede-e877-ec494d516ad8"
      },
      "source": [
        "tuple1=('Ram','Surya','Akash','Dev','Charles')\n",
        "print(tuple(enumerate(tuple1)))"
      ],
      "execution_count": 3,
      "outputs": [
        {
          "output_type": "stream",
          "text": [
            "((0, 'Ram'), (1, 'Surya'), (2, 'Akash'), (3, 'Dev'), (4, 'Charles'))\n"
          ],
          "name": "stdout"
        }
      ]
    }
  ]
}